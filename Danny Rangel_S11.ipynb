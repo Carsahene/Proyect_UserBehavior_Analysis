{
 "cells": [
  {
   "cell_type": "markdown",
   "metadata": {},
   "source": [
    "# Sprint 11 - Proyecto\n",
    "Trabajas en una empresa emergente que vende productos alimenticios. Debes investigar el comportamiento del usuario para la aplicación de la empresa.\n",
    "\n",
    "## Descripción de los datos\n",
    "Cada entrada de registro es una acción de usuario o un evento.\n",
    "\n",
    "    EventName: nombre del evento.\n",
    "    DeviceIDHash: identificador de usuario unívoco.\n",
    "    EventTimestamp: hora del evento.\n",
    "    ExpId: número de experimento. \n",
    "        246 y 247 son los grupos de control\n",
    "        248 es el grupo de prueba.\n",
    "\n",
    "## Instrucciones para completar el proyecto"
   ]
  },
  {
   "cell_type": "markdown",
   "metadata": {},
   "source": [
    "## Paso 1. Abrir el archivo de datos & leer la información general"
   ]
  },
  {
   "cell_type": "code",
   "execution_count": 39,
   "metadata": {},
   "outputs": [],
   "source": [
    "import seaborn as sns\n",
    "import matplotlib.pyplot as plt\n",
    "import pandas as pd\n",
    "import scipy.stats as stats\n",
    "import datetime as dt\n",
    "import numpy as np\n",
    "import math as mth\n",
    "from scipy import stats as st"
   ]
  },
  {
   "cell_type": "code",
   "execution_count": 40,
   "metadata": {},
   "outputs": [],
   "source": [
    "registro = pd.read_csv(\"/datasets/logs_exp_us.csv\", sep=\"\\t\")"
   ]
  },
  {
   "cell_type": "code",
   "execution_count": 41,
   "metadata": {},
   "outputs": [
    {
     "data": {
      "text/html": [
       "<div>\n",
       "<style scoped>\n",
       "    .dataframe tbody tr th:only-of-type {\n",
       "        vertical-align: middle;\n",
       "    }\n",
       "\n",
       "    .dataframe tbody tr th {\n",
       "        vertical-align: top;\n",
       "    }\n",
       "\n",
       "    .dataframe thead th {\n",
       "        text-align: right;\n",
       "    }\n",
       "</style>\n",
       "<table border=\"1\" class=\"dataframe\">\n",
       "  <thead>\n",
       "    <tr style=\"text-align: right;\">\n",
       "      <th></th>\n",
       "      <th>EventName</th>\n",
       "      <th>DeviceIDHash</th>\n",
       "      <th>EventTimestamp</th>\n",
       "      <th>ExpId</th>\n",
       "    </tr>\n",
       "  </thead>\n",
       "  <tbody>\n",
       "    <tr>\n",
       "      <th>0</th>\n",
       "      <td>MainScreenAppear</td>\n",
       "      <td>4575588528974610257</td>\n",
       "      <td>1564029816</td>\n",
       "      <td>246</td>\n",
       "    </tr>\n",
       "    <tr>\n",
       "      <th>1</th>\n",
       "      <td>MainScreenAppear</td>\n",
       "      <td>7416695313311560658</td>\n",
       "      <td>1564053102</td>\n",
       "      <td>246</td>\n",
       "    </tr>\n",
       "    <tr>\n",
       "      <th>2</th>\n",
       "      <td>PaymentScreenSuccessful</td>\n",
       "      <td>3518123091307005509</td>\n",
       "      <td>1564054127</td>\n",
       "      <td>248</td>\n",
       "    </tr>\n",
       "    <tr>\n",
       "      <th>3</th>\n",
       "      <td>CartScreenAppear</td>\n",
       "      <td>3518123091307005509</td>\n",
       "      <td>1564054127</td>\n",
       "      <td>248</td>\n",
       "    </tr>\n",
       "    <tr>\n",
       "      <th>4</th>\n",
       "      <td>PaymentScreenSuccessful</td>\n",
       "      <td>6217807653094995999</td>\n",
       "      <td>1564055322</td>\n",
       "      <td>248</td>\n",
       "    </tr>\n",
       "  </tbody>\n",
       "</table>\n",
       "</div>"
      ],
      "text/plain": [
       "                 EventName         DeviceIDHash  EventTimestamp  ExpId\n",
       "0         MainScreenAppear  4575588528974610257      1564029816    246\n",
       "1         MainScreenAppear  7416695313311560658      1564053102    246\n",
       "2  PaymentScreenSuccessful  3518123091307005509      1564054127    248\n",
       "3         CartScreenAppear  3518123091307005509      1564054127    248\n",
       "4  PaymentScreenSuccessful  6217807653094995999      1564055322    248"
      ]
     },
     "execution_count": 41,
     "metadata": {},
     "output_type": "execute_result"
    }
   ],
   "source": [
    "registro.head(5)"
   ]
  },
  {
   "cell_type": "code",
   "execution_count": 42,
   "metadata": {},
   "outputs": [
    {
     "name": "stdout",
     "output_type": "stream",
     "text": [
      "<class 'pandas.core.frame.DataFrame'>\n",
      "RangeIndex: 244126 entries, 0 to 244125\n",
      "Data columns (total 4 columns):\n",
      " #   Column          Non-Null Count   Dtype \n",
      "---  ------          --------------   ----- \n",
      " 0   EventName       244126 non-null  object\n",
      " 1   DeviceIDHash    244126 non-null  int64 \n",
      " 2   EventTimestamp  244126 non-null  int64 \n",
      " 3   ExpId           244126 non-null  int64 \n",
      "dtypes: int64(3), object(1)\n",
      "memory usage: 7.5+ MB\n"
     ]
    }
   ],
   "source": [
    "registro.info()"
   ]
  },
  {
   "cell_type": "markdown",
   "metadata": {},
   "source": [
    "## Paso 2. Preparar los datos para el análisis"
   ]
  },
  {
   "cell_type": "code",
   "execution_count": 43,
   "metadata": {},
   "outputs": [],
   "source": [
    "# Renombrando las columnas\n",
    "registro.rename(columns={'EventName': 'event_name', \n",
    "                        'DeviceIDHash': 'device_id',\n",
    "                        'EventTimestamp': 'event_timestamp',\n",
    "                        'ExpId': 'experimento'}, inplace=True\n",
    "              )"
   ]
  },
  {
   "cell_type": "code",
   "execution_count": 44,
   "metadata": {},
   "outputs": [
    {
     "data": {
      "text/html": [
       "<div>\n",
       "<style scoped>\n",
       "    .dataframe tbody tr th:only-of-type {\n",
       "        vertical-align: middle;\n",
       "    }\n",
       "\n",
       "    .dataframe tbody tr th {\n",
       "        vertical-align: top;\n",
       "    }\n",
       "\n",
       "    .dataframe thead th {\n",
       "        text-align: right;\n",
       "    }\n",
       "</style>\n",
       "<table border=\"1\" class=\"dataframe\">\n",
       "  <thead>\n",
       "    <tr style=\"text-align: right;\">\n",
       "      <th></th>\n",
       "      <th>event_name</th>\n",
       "      <th>device_id</th>\n",
       "      <th>event_timestamp</th>\n",
       "      <th>experimento</th>\n",
       "    </tr>\n",
       "  </thead>\n",
       "  <tbody>\n",
       "    <tr>\n",
       "      <th>0</th>\n",
       "      <td>MainScreenAppear</td>\n",
       "      <td>4575588528974610257</td>\n",
       "      <td>1564029816</td>\n",
       "      <td>246</td>\n",
       "    </tr>\n",
       "    <tr>\n",
       "      <th>1</th>\n",
       "      <td>MainScreenAppear</td>\n",
       "      <td>7416695313311560658</td>\n",
       "      <td>1564053102</td>\n",
       "      <td>246</td>\n",
       "    </tr>\n",
       "    <tr>\n",
       "      <th>2</th>\n",
       "      <td>PaymentScreenSuccessful</td>\n",
       "      <td>3518123091307005509</td>\n",
       "      <td>1564054127</td>\n",
       "      <td>248</td>\n",
       "    </tr>\n",
       "  </tbody>\n",
       "</table>\n",
       "</div>"
      ],
      "text/plain": [
       "                event_name            device_id  event_timestamp  experimento\n",
       "0         MainScreenAppear  4575588528974610257       1564029816          246\n",
       "1         MainScreenAppear  7416695313311560658       1564053102          246\n",
       "2  PaymentScreenSuccessful  3518123091307005509       1564054127          248"
      ]
     },
     "execution_count": 44,
     "metadata": {},
     "output_type": "execute_result"
    }
   ],
   "source": [
    "registro.head(3)"
   ]
  },
  {
   "cell_type": "code",
   "execution_count": 45,
   "metadata": {},
   "outputs": [
    {
     "name": "stdout",
     "output_type": "stream",
     "text": [
      "<class 'pandas.core.frame.DataFrame'>\n",
      "RangeIndex: 244126 entries, 0 to 244125\n",
      "Data columns (total 4 columns):\n",
      " #   Column           Non-Null Count   Dtype         \n",
      "---  ------           --------------   -----         \n",
      " 0   event_name       244126 non-null  object        \n",
      " 1   device_id        244126 non-null  int64         \n",
      " 2   event_timestamp  244126 non-null  datetime64[ns]\n",
      " 3   experimento      244126 non-null  int64         \n",
      "dtypes: datetime64[ns](1), int64(2), object(1)\n",
      "memory usage: 7.5+ MB\n"
     ]
    }
   ],
   "source": [
    "# Cambiando la columna de evento_date a formato de fecha y hora\n",
    "registro['event_timestamp'] = pd.to_datetime(registro['event_timestamp'], unit='s')\n",
    "registro['event_timestamp'] = registro['event_timestamp'].dt.floor('H')\n",
    "registro.info()"
   ]
  },
  {
   "cell_type": "code",
   "execution_count": 46,
   "metadata": {},
   "outputs": [
    {
     "data": {
      "text/html": [
       "<div>\n",
       "<style scoped>\n",
       "    .dataframe tbody tr th:only-of-type {\n",
       "        vertical-align: middle;\n",
       "    }\n",
       "\n",
       "    .dataframe tbody tr th {\n",
       "        vertical-align: top;\n",
       "    }\n",
       "\n",
       "    .dataframe thead th {\n",
       "        text-align: right;\n",
       "    }\n",
       "</style>\n",
       "<table border=\"1\" class=\"dataframe\">\n",
       "  <thead>\n",
       "    <tr style=\"text-align: right;\">\n",
       "      <th></th>\n",
       "      <th>event_name</th>\n",
       "      <th>device_id</th>\n",
       "      <th>event_timestamp</th>\n",
       "      <th>experimento</th>\n",
       "    </tr>\n",
       "  </thead>\n",
       "  <tbody>\n",
       "    <tr>\n",
       "      <th>0</th>\n",
       "      <td>MainScreenAppear</td>\n",
       "      <td>4575588528974610257</td>\n",
       "      <td>2019-07-25 04:00:00</td>\n",
       "      <td>246</td>\n",
       "    </tr>\n",
       "    <tr>\n",
       "      <th>1</th>\n",
       "      <td>MainScreenAppear</td>\n",
       "      <td>7416695313311560658</td>\n",
       "      <td>2019-07-25 11:00:00</td>\n",
       "      <td>246</td>\n",
       "    </tr>\n",
       "    <tr>\n",
       "      <th>2</th>\n",
       "      <td>PaymentScreenSuccessful</td>\n",
       "      <td>3518123091307005509</td>\n",
       "      <td>2019-07-25 11:00:00</td>\n",
       "      <td>248</td>\n",
       "    </tr>\n",
       "    <tr>\n",
       "      <th>3</th>\n",
       "      <td>CartScreenAppear</td>\n",
       "      <td>3518123091307005509</td>\n",
       "      <td>2019-07-25 11:00:00</td>\n",
       "      <td>248</td>\n",
       "    </tr>\n",
       "    <tr>\n",
       "      <th>4</th>\n",
       "      <td>PaymentScreenSuccessful</td>\n",
       "      <td>6217807653094995999</td>\n",
       "      <td>2019-07-25 11:00:00</td>\n",
       "      <td>248</td>\n",
       "    </tr>\n",
       "  </tbody>\n",
       "</table>\n",
       "</div>"
      ],
      "text/plain": [
       "                event_name            device_id     event_timestamp  \\\n",
       "0         MainScreenAppear  4575588528974610257 2019-07-25 04:00:00   \n",
       "1         MainScreenAppear  7416695313311560658 2019-07-25 11:00:00   \n",
       "2  PaymentScreenSuccessful  3518123091307005509 2019-07-25 11:00:00   \n",
       "3         CartScreenAppear  3518123091307005509 2019-07-25 11:00:00   \n",
       "4  PaymentScreenSuccessful  6217807653094995999 2019-07-25 11:00:00   \n",
       "\n",
       "   experimento  \n",
       "0          246  \n",
       "1          246  \n",
       "2          248  \n",
       "3          248  \n",
       "4          248  "
      ]
     },
     "execution_count": 46,
     "metadata": {},
     "output_type": "execute_result"
    }
   ],
   "source": [
    "registro.head()"
   ]
  },
  {
   "cell_type": "code",
   "execution_count": 47,
   "metadata": {},
   "outputs": [
    {
     "name": "stdout",
     "output_type": "stream",
     "text": [
      "<class 'pandas.core.frame.DataFrame'>\n",
      "RangeIndex: 244126 entries, 0 to 244125\n",
      "Data columns (total 5 columns):\n",
      " #   Column           Non-Null Count   Dtype         \n",
      "---  ------           --------------   -----         \n",
      " 0   event_name       244126 non-null  object        \n",
      " 1   device_id        244126 non-null  int64         \n",
      " 2   event_timestamp  244126 non-null  datetime64[ns]\n",
      " 3   experimento      244126 non-null  int64         \n",
      " 4   fecha            244126 non-null  datetime64[ns]\n",
      "dtypes: datetime64[ns](2), int64(2), object(1)\n",
      "memory usage: 9.3+ MB\n"
     ]
    }
   ],
   "source": [
    "# Registro de la columna solo registro['fecha']\n",
    "registro['fecha'] = registro['event_timestamp'].dt.date\n",
    "registro['fecha'] = pd.to_datetime(registro['fecha'], format='%Y-%m-%d')\n",
    "registro.info(3)"
   ]
  },
  {
   "cell_type": "code",
   "execution_count": 48,
   "metadata": {},
   "outputs": [
    {
     "name": "stdout",
     "output_type": "stream",
     "text": [
      "event_name         0\n",
      "device_id          0\n",
      "event_timestamp    0\n",
      "experimento        0\n",
      "fecha              0\n",
      "dtype: int64\n"
     ]
    }
   ],
   "source": [
    "# Comprueba los tipos de datos y valores ausentes. Corrige los datos si es necesario.\n",
    "print(registro.isna().sum()) "
   ]
  },
  {
   "cell_type": "code",
   "execution_count": 49,
   "metadata": {},
   "outputs": [
    {
     "name": "stdout",
     "output_type": "stream",
     "text": [
      "145284\n"
     ]
    }
   ],
   "source": [
    "# Buscar por duplicados\n",
    "print(registro.duplicated().sum())"
   ]
  },
  {
   "cell_type": "code",
   "execution_count": 50,
   "metadata": {},
   "outputs": [
    {
     "data": {
      "text/html": [
       "<div>\n",
       "<style scoped>\n",
       "    .dataframe tbody tr th:only-of-type {\n",
       "        vertical-align: middle;\n",
       "    }\n",
       "\n",
       "    .dataframe tbody tr th {\n",
       "        vertical-align: top;\n",
       "    }\n",
       "\n",
       "    .dataframe thead th {\n",
       "        text-align: right;\n",
       "    }\n",
       "</style>\n",
       "<table border=\"1\" class=\"dataframe\">\n",
       "  <thead>\n",
       "    <tr style=\"text-align: right;\">\n",
       "      <th></th>\n",
       "      <th>event_name</th>\n",
       "      <th>device_id</th>\n",
       "      <th>event_timestamp</th>\n",
       "      <th>experimento</th>\n",
       "      <th>fecha</th>\n",
       "    </tr>\n",
       "  </thead>\n",
       "  <tbody>\n",
       "    <tr>\n",
       "      <th>0</th>\n",
       "      <td>MainScreenAppear</td>\n",
       "      <td>4575588528974610257</td>\n",
       "      <td>2019-07-25 04:00:00</td>\n",
       "      <td>246</td>\n",
       "      <td>2019-07-25</td>\n",
       "    </tr>\n",
       "    <tr>\n",
       "      <th>1</th>\n",
       "      <td>MainScreenAppear</td>\n",
       "      <td>7416695313311560658</td>\n",
       "      <td>2019-07-25 11:00:00</td>\n",
       "      <td>246</td>\n",
       "      <td>2019-07-25</td>\n",
       "    </tr>\n",
       "    <tr>\n",
       "      <th>2</th>\n",
       "      <td>PaymentScreenSuccessful</td>\n",
       "      <td>3518123091307005509</td>\n",
       "      <td>2019-07-25 11:00:00</td>\n",
       "      <td>248</td>\n",
       "      <td>2019-07-25</td>\n",
       "    </tr>\n",
       "    <tr>\n",
       "      <th>3</th>\n",
       "      <td>CartScreenAppear</td>\n",
       "      <td>3518123091307005509</td>\n",
       "      <td>2019-07-25 11:00:00</td>\n",
       "      <td>248</td>\n",
       "      <td>2019-07-25</td>\n",
       "    </tr>\n",
       "    <tr>\n",
       "      <th>4</th>\n",
       "      <td>PaymentScreenSuccessful</td>\n",
       "      <td>6217807653094995999</td>\n",
       "      <td>2019-07-25 11:00:00</td>\n",
       "      <td>248</td>\n",
       "      <td>2019-07-25</td>\n",
       "    </tr>\n",
       "    <tr>\n",
       "      <th>...</th>\n",
       "      <td>...</td>\n",
       "      <td>...</td>\n",
       "      <td>...</td>\n",
       "      <td>...</td>\n",
       "      <td>...</td>\n",
       "    </tr>\n",
       "    <tr>\n",
       "      <th>244110</th>\n",
       "      <td>OffersScreenAppear</td>\n",
       "      <td>5317814261427487562</td>\n",
       "      <td>2019-08-07 21:00:00</td>\n",
       "      <td>248</td>\n",
       "      <td>2019-08-07</td>\n",
       "    </tr>\n",
       "    <tr>\n",
       "      <th>244112</th>\n",
       "      <td>MainScreenAppear</td>\n",
       "      <td>8945389877779498724</td>\n",
       "      <td>2019-08-07 21:00:00</td>\n",
       "      <td>246</td>\n",
       "      <td>2019-08-07</td>\n",
       "    </tr>\n",
       "    <tr>\n",
       "      <th>244113</th>\n",
       "      <td>OffersScreenAppear</td>\n",
       "      <td>8945389877779498724</td>\n",
       "      <td>2019-08-07 21:00:00</td>\n",
       "      <td>246</td>\n",
       "      <td>2019-08-07</td>\n",
       "    </tr>\n",
       "    <tr>\n",
       "      <th>244119</th>\n",
       "      <td>MainScreenAppear</td>\n",
       "      <td>5746969938801999050</td>\n",
       "      <td>2019-08-07 21:00:00</td>\n",
       "      <td>246</td>\n",
       "      <td>2019-08-07</td>\n",
       "    </tr>\n",
       "    <tr>\n",
       "      <th>244125</th>\n",
       "      <td>OffersScreenAppear</td>\n",
       "      <td>5746969938801999050</td>\n",
       "      <td>2019-08-07 21:00:00</td>\n",
       "      <td>246</td>\n",
       "      <td>2019-08-07</td>\n",
       "    </tr>\n",
       "  </tbody>\n",
       "</table>\n",
       "<p>98842 rows × 5 columns</p>\n",
       "</div>"
      ],
      "text/plain": [
       "                     event_name            device_id     event_timestamp  \\\n",
       "0              MainScreenAppear  4575588528974610257 2019-07-25 04:00:00   \n",
       "1              MainScreenAppear  7416695313311560658 2019-07-25 11:00:00   \n",
       "2       PaymentScreenSuccessful  3518123091307005509 2019-07-25 11:00:00   \n",
       "3              CartScreenAppear  3518123091307005509 2019-07-25 11:00:00   \n",
       "4       PaymentScreenSuccessful  6217807653094995999 2019-07-25 11:00:00   \n",
       "...                         ...                  ...                 ...   \n",
       "244110       OffersScreenAppear  5317814261427487562 2019-08-07 21:00:00   \n",
       "244112         MainScreenAppear  8945389877779498724 2019-08-07 21:00:00   \n",
       "244113       OffersScreenAppear  8945389877779498724 2019-08-07 21:00:00   \n",
       "244119         MainScreenAppear  5746969938801999050 2019-08-07 21:00:00   \n",
       "244125       OffersScreenAppear  5746969938801999050 2019-08-07 21:00:00   \n",
       "\n",
       "        experimento      fecha  \n",
       "0               246 2019-07-25  \n",
       "1               246 2019-07-25  \n",
       "2               248 2019-07-25  \n",
       "3               248 2019-07-25  \n",
       "4               248 2019-07-25  \n",
       "...             ...        ...  \n",
       "244110          248 2019-08-07  \n",
       "244112          246 2019-08-07  \n",
       "244113          246 2019-08-07  \n",
       "244119          246 2019-08-07  \n",
       "244125          246 2019-08-07  \n",
       "\n",
       "[98842 rows x 5 columns]"
      ]
     },
     "execution_count": 50,
     "metadata": {},
     "output_type": "execute_result"
    }
   ],
   "source": [
    "# Eliminando duplicados\n",
    "clean_registro = registro.drop_duplicates()\n",
    "clean_registro"
   ]
  },
  {
   "cell_type": "markdown",
   "metadata": {},
   "source": [
    "## Paso 3. Estudiar y comprobar los datos"
   ]
  },
  {
   "cell_type": "markdown",
   "metadata": {},
   "source": [
    "### 3.1 Cantidad de eventos que hay en los registros"
   ]
  },
  {
   "cell_type": "code",
   "execution_count": 51,
   "metadata": {},
   "outputs": [
    {
     "data": {
      "text/html": [
       "<div>\n",
       "<style scoped>\n",
       "    .dataframe tbody tr th:only-of-type {\n",
       "        vertical-align: middle;\n",
       "    }\n",
       "\n",
       "    .dataframe tbody tr th {\n",
       "        vertical-align: top;\n",
       "    }\n",
       "\n",
       "    .dataframe thead th {\n",
       "        text-align: right;\n",
       "    }\n",
       "</style>\n",
       "<table border=\"1\" class=\"dataframe\">\n",
       "  <thead>\n",
       "    <tr style=\"text-align: right;\">\n",
       "      <th></th>\n",
       "      <th>Usuarios Únicos</th>\n",
       "    </tr>\n",
       "    <tr>\n",
       "      <th>event_name</th>\n",
       "      <th></th>\n",
       "    </tr>\n",
       "  </thead>\n",
       "  <tbody>\n",
       "    <tr>\n",
       "      <th>CartScreenAppear</th>\n",
       "      <td>3749</td>\n",
       "    </tr>\n",
       "    <tr>\n",
       "      <th>MainScreenAppear</th>\n",
       "      <td>7439</td>\n",
       "    </tr>\n",
       "    <tr>\n",
       "      <th>OffersScreenAppear</th>\n",
       "      <td>4613</td>\n",
       "    </tr>\n",
       "    <tr>\n",
       "      <th>PaymentScreenSuccessful</th>\n",
       "      <td>3547</td>\n",
       "    </tr>\n",
       "    <tr>\n",
       "      <th>Tutorial</th>\n",
       "      <td>847</td>\n",
       "    </tr>\n",
       "  </tbody>\n",
       "</table>\n",
       "</div>"
      ],
      "text/plain": [
       "                         Usuarios Únicos\n",
       "event_name                              \n",
       "CartScreenAppear                    3749\n",
       "MainScreenAppear                    7439\n",
       "OffersScreenAppear                  4613\n",
       "PaymentScreenSuccessful             3547\n",
       "Tutorial                             847"
      ]
     },
     "execution_count": 51,
     "metadata": {},
     "output_type": "execute_result"
    }
   ],
   "source": [
    "# Total de eventos hay registrados\n",
    "total_eventos = (\n",
    "    clean_registro\n",
    "        .groupby('event_name')\n",
    "        .agg(\n",
    "            total_usuarios =('device_id','nunique')\n",
    "        )\n",
    "    .rename(columns={'total_usuarios': 'Usuarios Únicos'})\n",
    ")\n",
    "total_eventos"
   ]
  },
  {
   "cell_type": "markdown",
   "metadata": {},
   "source": [
    "### 3.2 Cantidad de usuarios hay en los registros"
   ]
  },
  {
   "cell_type": "code",
   "execution_count": 52,
   "metadata": {},
   "outputs": [
    {
     "data": {
      "text/html": [
       "<div>\n",
       "<style scoped>\n",
       "    .dataframe tbody tr th:only-of-type {\n",
       "        vertical-align: middle;\n",
       "    }\n",
       "\n",
       "    .dataframe tbody tr th {\n",
       "        vertical-align: top;\n",
       "    }\n",
       "\n",
       "    .dataframe thead th {\n",
       "        text-align: right;\n",
       "    }\n",
       "</style>\n",
       "<table border=\"1\" class=\"dataframe\">\n",
       "  <thead>\n",
       "    <tr style=\"text-align: right;\">\n",
       "      <th></th>\n",
       "      <th>Usuarios Únicos</th>\n",
       "    </tr>\n",
       "    <tr>\n",
       "      <th>experimento</th>\n",
       "      <th></th>\n",
       "    </tr>\n",
       "  </thead>\n",
       "  <tbody>\n",
       "    <tr>\n",
       "      <th>246</th>\n",
       "      <td>2489</td>\n",
       "    </tr>\n",
       "    <tr>\n",
       "      <th>247</th>\n",
       "      <td>2520</td>\n",
       "    </tr>\n",
       "    <tr>\n",
       "      <th>248</th>\n",
       "      <td>2542</td>\n",
       "    </tr>\n",
       "  </tbody>\n",
       "</table>\n",
       "</div>"
      ],
      "text/plain": [
       "             Usuarios Únicos\n",
       "experimento                 \n",
       "246                     2489\n",
       "247                     2520\n",
       "248                     2542"
      ]
     },
     "execution_count": 52,
     "metadata": {},
     "output_type": "execute_result"
    }
   ],
   "source": [
    "# Contar usuarios únicos en la columna\n",
    "total_usuarios = (\n",
    "    clean_registro\n",
    "        .groupby('experimento')\n",
    "        .agg(\n",
    "            total_usuarios =('device_id','nunique')\n",
    "        )\n",
    "    .rename(columns={'total_usuarios': 'Usuarios Únicos'})\n",
    ")\n",
    "total_usuarios"
   ]
  },
  {
   "cell_type": "markdown",
   "metadata": {},
   "source": [
    "### 3.3 Promedio de eventos por usuario"
   ]
  },
  {
   "cell_type": "code",
   "execution_count": 53,
   "metadata": {},
   "outputs": [
    {
     "name": "stdout",
     "output_type": "stream",
     "text": [
      "Promedio de eventos por usuario: 13.09\n"
     ]
    }
   ],
   "source": [
    "# Promedio de eventos por usuario\n",
    "# Paso 1: Contar eventos por usuario\n",
    "eventos_por_usuario = clean_registro['device_id'].value_counts() \n",
    "\n",
    "# Paso 2: Calcular el promedio\n",
    "promedio_eventos = eventos_por_usuario.mean()\n",
    "\n",
    "print(f\"Promedio de eventos por usuario: {promedio_eventos:.2f}\")"
   ]
  },
  {
   "cell_type": "markdown",
   "metadata": {},
   "source": [
    "### 3.4 Periodo de tiempo cubren los datos. Encuentra la fecha máxima y mínima. "
   ]
  },
  {
   "cell_type": "code",
   "execution_count": 54,
   "metadata": {},
   "outputs": [
    {
     "data": {
      "text/html": [
       "<div>\n",
       "<style scoped>\n",
       "    .dataframe tbody tr th:only-of-type {\n",
       "        vertical-align: middle;\n",
       "    }\n",
       "\n",
       "    .dataframe tbody tr th {\n",
       "        vertical-align: top;\n",
       "    }\n",
       "\n",
       "    .dataframe thead th {\n",
       "        text-align: right;\n",
       "    }\n",
       "</style>\n",
       "<table border=\"1\" class=\"dataframe\">\n",
       "  <thead>\n",
       "    <tr style=\"text-align: right;\">\n",
       "      <th></th>\n",
       "      <th>event_name</th>\n",
       "      <th>device_id</th>\n",
       "      <th>event_timestamp</th>\n",
       "      <th>experimento</th>\n",
       "      <th>fecha</th>\n",
       "    </tr>\n",
       "  </thead>\n",
       "  <tbody>\n",
       "    <tr>\n",
       "      <th>0</th>\n",
       "      <td>MainScreenAppear</td>\n",
       "      <td>4575588528974610257</td>\n",
       "      <td>2019-07-25 04:00:00</td>\n",
       "      <td>246</td>\n",
       "      <td>2019-07-25</td>\n",
       "    </tr>\n",
       "    <tr>\n",
       "      <th>1</th>\n",
       "      <td>MainScreenAppear</td>\n",
       "      <td>7416695313311560658</td>\n",
       "      <td>2019-07-25 11:00:00</td>\n",
       "      <td>246</td>\n",
       "      <td>2019-07-25</td>\n",
       "    </tr>\n",
       "    <tr>\n",
       "      <th>2</th>\n",
       "      <td>PaymentScreenSuccessful</td>\n",
       "      <td>3518123091307005509</td>\n",
       "      <td>2019-07-25 11:00:00</td>\n",
       "      <td>248</td>\n",
       "      <td>2019-07-25</td>\n",
       "    </tr>\n",
       "    <tr>\n",
       "      <th>3</th>\n",
       "      <td>CartScreenAppear</td>\n",
       "      <td>3518123091307005509</td>\n",
       "      <td>2019-07-25 11:00:00</td>\n",
       "      <td>248</td>\n",
       "      <td>2019-07-25</td>\n",
       "    </tr>\n",
       "    <tr>\n",
       "      <th>4</th>\n",
       "      <td>PaymentScreenSuccessful</td>\n",
       "      <td>6217807653094995999</td>\n",
       "      <td>2019-07-25 11:00:00</td>\n",
       "      <td>248</td>\n",
       "      <td>2019-07-25</td>\n",
       "    </tr>\n",
       "  </tbody>\n",
       "</table>\n",
       "</div>"
      ],
      "text/plain": [
       "                event_name            device_id     event_timestamp  \\\n",
       "0         MainScreenAppear  4575588528974610257 2019-07-25 04:00:00   \n",
       "1         MainScreenAppear  7416695313311560658 2019-07-25 11:00:00   \n",
       "2  PaymentScreenSuccessful  3518123091307005509 2019-07-25 11:00:00   \n",
       "3         CartScreenAppear  3518123091307005509 2019-07-25 11:00:00   \n",
       "4  PaymentScreenSuccessful  6217807653094995999 2019-07-25 11:00:00   \n",
       "\n",
       "   experimento      fecha  \n",
       "0          246 2019-07-25  \n",
       "1          246 2019-07-25  \n",
       "2          248 2019-07-25  \n",
       "3          248 2019-07-25  \n",
       "4          248 2019-07-25  "
      ]
     },
     "execution_count": 54,
     "metadata": {},
     "output_type": "execute_result"
    }
   ],
   "source": [
    "clean_registro.head()"
   ]
  },
  {
   "cell_type": "code",
   "execution_count": 55,
   "metadata": {},
   "outputs": [
    {
     "name": "stdout",
     "output_type": "stream",
     "text": [
      "Fecha minima: 2019-07-25 04:00:00\n",
      "Fecha maxima: 2019-08-07 21:00:00\n"
     ]
    }
   ],
   "source": [
    "print(f\"Fecha minima:\", clean_registro['event_timestamp'].min())\n",
    "print(f\"Fecha maxima:\", clean_registro['event_timestamp'].max())"
   ]
  },
  {
   "cell_type": "code",
   "execution_count": 56,
   "metadata": {},
   "outputs": [
    {
     "data": {
      "text/html": [
       "<div>\n",
       "<style scoped>\n",
       "    .dataframe tbody tr th:only-of-type {\n",
       "        vertical-align: middle;\n",
       "    }\n",
       "\n",
       "    .dataframe tbody tr th {\n",
       "        vertical-align: top;\n",
       "    }\n",
       "\n",
       "    .dataframe thead th {\n",
       "        text-align: right;\n",
       "    }\n",
       "</style>\n",
       "<table border=\"1\" class=\"dataframe\">\n",
       "  <thead>\n",
       "    <tr style=\"text-align: right;\">\n",
       "      <th></th>\n",
       "      <th>Usuarios Únicos</th>\n",
       "    </tr>\n",
       "    <tr>\n",
       "      <th>fecha</th>\n",
       "      <th></th>\n",
       "    </tr>\n",
       "  </thead>\n",
       "  <tbody>\n",
       "    <tr>\n",
       "      <th>2019-08-06</th>\n",
       "      <td>3922</td>\n",
       "    </tr>\n",
       "    <tr>\n",
       "      <th>2019-08-05</th>\n",
       "      <td>3802</td>\n",
       "    </tr>\n",
       "    <tr>\n",
       "      <th>2019-08-01</th>\n",
       "      <td>3703</td>\n",
       "    </tr>\n",
       "    <tr>\n",
       "      <th>2019-08-07</th>\n",
       "      <td>3651</td>\n",
       "    </tr>\n",
       "    <tr>\n",
       "      <th>2019-08-02</th>\n",
       "      <td>3647</td>\n",
       "    </tr>\n",
       "  </tbody>\n",
       "</table>\n",
       "</div>"
      ],
      "text/plain": [
       "            Usuarios Únicos\n",
       "fecha                      \n",
       "2019-08-06             3922\n",
       "2019-08-05             3802\n",
       "2019-08-01             3703\n",
       "2019-08-07             3651\n",
       "2019-08-02             3647"
      ]
     },
     "execution_count": 56,
     "metadata": {},
     "output_type": "execute_result"
    }
   ],
   "source": [
    "# Que periodo de tiempo cubren los datos\n",
    "registros_x_fecha = (\n",
    "    clean_registro\n",
    "        .groupby('fecha')\n",
    "        .agg(\n",
    "            total_usuarios =('device_id','nunique')\n",
    "        )\n",
    "    .rename(columns={'total_usuarios': 'Usuarios Únicos'})\n",
    ")\n",
    "registros_x_fecha.sort_values(by='Usuarios Únicos', ascending=False).head(5)"
   ]
  },
  {
   "cell_type": "code",
   "execution_count": 57,
   "metadata": {},
   "outputs": [
    {
     "data": {
      "text/plain": [
       "<Figure size 1200x600 with 0 Axes>"
      ]
     },
     "metadata": {},
     "output_type": "display_data"
    },
    {
     "data": {
      "image/png": "[encoded data removed]",
      "text/plain": [
       "<Figure size 640x480 with 1 Axes>"
      ]
     },
     "metadata": {},
     "output_type": "display_data"
    }
   ],
   "source": [
    "# Configurar el gráfico\n",
    "plt.figure(figsize=(12, 6))\n",
    "registros_x_fecha.plot(kind='bar', color='skyblue', edgecolor='darkblue') \n",
    "plt.title('Usuarios Únicos por Fecha', fontsize=14)\n",
    "plt.xlabel('Fecha', fontsize=12)\n",
    "plt.ylabel('Número de Usuarios Únicos', fontsize=12)\n",
    "plt.xticks(rotation=45)\n",
    "plt.grid(axis='y', linestyle='--', alpha=0.7)\n",
    "\n",
    "# Mostrar el gráfico\n",
    "plt.tight_layout()\n",
    "plt.show()"
   ]
  },
  {
   "cell_type": "markdown",
   "metadata": {},
   "source": [
    "#### Análisis de resultados:\n",
    "\n",
    "A partir del 30 de julio se observa un cambio significativo en el comportamiento de los usuarios. Los datos entre el 25 y el 29 de julio muestran una baja actividad, probablemente relacionada con una etapa previa al lanzamiento formal o con una baja visibilidad inicial. Dado su bajo volumen, pueden considerarse no representativos del comportamiento real y ser excluidos del análisis principal.\n",
    "\n",
    "Desde el 30 de julio, el número de usuarios únicos se estabiliza por encima de los 934 diarios, indicando que el sistema alcanzó su nivel operativo estable, posiblemente debido a una campaña de marketing, mejoras técnicas, o simplemente mayor conocimiento del producto. Esta etapa es clave para el análisis de comportamiento real de los usuarios."
   ]
  },
  {
   "cell_type": "code",
   "execution_count": 58,
   "metadata": {},
   "outputs": [
    {
     "data": {
      "text/html": [
       "<div>\n",
       "<style scoped>\n",
       "    .dataframe tbody tr th:only-of-type {\n",
       "        vertical-align: middle;\n",
       "    }\n",
       "\n",
       "    .dataframe tbody tr th {\n",
       "        vertical-align: top;\n",
       "    }\n",
       "\n",
       "    .dataframe thead th {\n",
       "        text-align: right;\n",
       "    }\n",
       "</style>\n",
       "<table border=\"1\" class=\"dataframe\">\n",
       "  <thead>\n",
       "    <tr style=\"text-align: right;\">\n",
       "      <th></th>\n",
       "      <th>Usuarios Únicos</th>\n",
       "    </tr>\n",
       "    <tr>\n",
       "      <th>event_timestamp</th>\n",
       "      <th></th>\n",
       "    </tr>\n",
       "  </thead>\n",
       "  <tbody>\n",
       "    <tr>\n",
       "      <th>2019-08-06 14:00:00</th>\n",
       "      <td>553</td>\n",
       "    </tr>\n",
       "    <tr>\n",
       "      <th>2019-08-05 13:00:00</th>\n",
       "      <td>540</td>\n",
       "    </tr>\n",
       "    <tr>\n",
       "      <th>2019-08-06 15:00:00</th>\n",
       "      <td>539</td>\n",
       "    </tr>\n",
       "    <tr>\n",
       "      <th>2019-08-05 15:00:00</th>\n",
       "      <td>524</td>\n",
       "    </tr>\n",
       "    <tr>\n",
       "      <th>2019-08-05 16:00:00</th>\n",
       "      <td>519</td>\n",
       "    </tr>\n",
       "  </tbody>\n",
       "</table>\n",
       "</div>"
      ],
      "text/plain": [
       "                     Usuarios Únicos\n",
       "event_timestamp                     \n",
       "2019-08-06 14:00:00              553\n",
       "2019-08-05 13:00:00              540\n",
       "2019-08-06 15:00:00              539\n",
       "2019-08-05 15:00:00              524\n",
       "2019-08-05 16:00:00              519"
      ]
     },
     "execution_count": 58,
     "metadata": {},
     "output_type": "execute_result"
    }
   ],
   "source": [
    "# Que periodo de tiempo cubren los datos\n",
    "registros_x_fecha_hora = (\n",
    "    clean_registro\n",
    "        .groupby('event_timestamp')\n",
    "        .agg(\n",
    "            total_usuarios =('device_id','nunique')\n",
    "        )\n",
    "    .rename(columns={'total_usuarios': 'Usuarios Únicos'})\n",
    ")\n",
    "registros_x_fecha_hora.sort_values(by='Usuarios Únicos', ascending=False).head(5)"
   ]
  },
  {
   "cell_type": "markdown",
   "metadata": {},
   "source": [
    "#### 3.4.2 Traza un histograma por fecha y hora."
   ]
  },
  {
   "cell_type": "code",
   "execution_count": 59,
   "metadata": {},
   "outputs": [
    {
     "data": {
      "text/plain": [
       "<Figure size 1200x600 with 0 Axes>"
      ]
     },
     "metadata": {},
     "output_type": "display_data"
    },
    {
     "data": {
      "image/png": "[encoded data removed]",
      "text/plain": [
       "<Figure size 640x480 with 1 Axes>"
      ]
     },
     "metadata": {},
     "output_type": "display_data"
    }
   ],
   "source": [
    "# Configurar el gráfico\n",
    "plt.figure(figsize=(12, 6))\n",
    "registros_x_fecha_hora.plot(kind='hist', color='#4CAF50', edgecolor='darkgreen', bins=45) \n",
    "plt.title('Usuarios Únicos por Hora', fontsize=14)\n",
    "plt.xlabel('Totales por Hora', fontsize=12)\n",
    "plt.ylabel('Número de Usuarios Únicos', fontsize=12)\n",
    "plt.xticks(rotation=45)\n",
    "plt.grid(axis='y', linestyle='--', alpha=0.7)\n",
    "\n",
    "# Mostrar el gráfico\n",
    "plt.tight_layout()\n",
    "plt.show()"
   ]
  },
  {
   "cell_type": "markdown",
   "metadata": {},
   "source": [
    "#### Análisis de resultados:\n",
    "\n",
    "El análisis de usuarios únicos por hora muestra que la actividad alcanzó sus valores más altos en agosto, especialmente el 6 de agosto a las 14:00 con 553 usuarios. Los picos de mayor afluencia se concentran en horas de la tarde (entre las 13:00 y 16:00), lo que indica una tendencia de uso más intensa en este rango horario.\n",
    "\n",
    "En las fechas previas se observa una gran cantidad de horas con muy baja participación, lo que sugiere que el sistema o los experimentos estaban en fase inicial y no habían alcanzado un flujo estable de usuarios.\n",
    "\n",
    "A partir de agosto, la actividad se estabiliza con una distribución más consistente, mostrando un aumento sostenido a partir de las 11:00 horas, lo que refleja una mayor adopción y uso del sistema en el periodo analizado."
   ]
  },
  {
   "cell_type": "markdown",
   "metadata": {},
   "source": [
    "### 3.5 Total de eventos y usuarios al excluir los datos más antiguos"
   ]
  },
  {
   "cell_type": "code",
   "execution_count": 60,
   "metadata": {},
   "outputs": [
    {
     "data": {
      "text/html": [
       "<div>\n",
       "<style scoped>\n",
       "    .dataframe tbody tr th:only-of-type {\n",
       "        vertical-align: middle;\n",
       "    }\n",
       "\n",
       "    .dataframe tbody tr th {\n",
       "        vertical-align: top;\n",
       "    }\n",
       "\n",
       "    .dataframe thead th {\n",
       "        text-align: right;\n",
       "    }\n",
       "</style>\n",
       "<table border=\"1\" class=\"dataframe\">\n",
       "  <thead>\n",
       "    <tr style=\"text-align: right;\">\n",
       "      <th></th>\n",
       "      <th>device_id</th>\n",
       "      <th>experimento</th>\n",
       "      <th>event_name</th>\n",
       "      <th>fecha</th>\n",
       "    </tr>\n",
       "  </thead>\n",
       "  <tbody>\n",
       "    <tr>\n",
       "      <th>0</th>\n",
       "      <td>4575588528974610257</td>\n",
       "      <td>246</td>\n",
       "      <td>MainScreenAppear</td>\n",
       "      <td>2019-07-25</td>\n",
       "    </tr>\n",
       "    <tr>\n",
       "      <th>1</th>\n",
       "      <td>7416695313311560658</td>\n",
       "      <td>246</td>\n",
       "      <td>MainScreenAppear</td>\n",
       "      <td>2019-07-25</td>\n",
       "    </tr>\n",
       "    <tr>\n",
       "      <th>2</th>\n",
       "      <td>3518123091307005509</td>\n",
       "      <td>248</td>\n",
       "      <td>PaymentScreenSuccessful</td>\n",
       "      <td>2019-07-25</td>\n",
       "    </tr>\n",
       "    <tr>\n",
       "      <th>3</th>\n",
       "      <td>3518123091307005509</td>\n",
       "      <td>248</td>\n",
       "      <td>CartScreenAppear</td>\n",
       "      <td>2019-07-25</td>\n",
       "    </tr>\n",
       "    <tr>\n",
       "      <th>4</th>\n",
       "      <td>6217807653094995999</td>\n",
       "      <td>248</td>\n",
       "      <td>PaymentScreenSuccessful</td>\n",
       "      <td>2019-07-25</td>\n",
       "    </tr>\n",
       "  </tbody>\n",
       "</table>\n",
       "</div>"
      ],
      "text/plain": [
       "             device_id  experimento               event_name      fecha\n",
       "0  4575588528974610257          246         MainScreenAppear 2019-07-25\n",
       "1  7416695313311560658          246         MainScreenAppear 2019-07-25\n",
       "2  3518123091307005509          248  PaymentScreenSuccessful 2019-07-25\n",
       "3  3518123091307005509          248         CartScreenAppear 2019-07-25\n",
       "4  6217807653094995999          248  PaymentScreenSuccessful 2019-07-25"
      ]
     },
     "execution_count": 60,
     "metadata": {},
     "output_type": "execute_result"
    }
   ],
   "source": [
    "# Total de eventos y usuarios al excluir los datos más antiguos\n",
    "# Filtrar por la fecha 2019-07-25 al 2019-07-30\n",
    "Total_datos_excluidos = clean_registro.query(\"fecha >= '2019-07-25' and fecha <= '2019-07-29'\")[['device_id', 'experimento', 'event_name', 'fecha']]\n",
    "Total_datos_excluidos.head(5)"
   ]
  },
  {
   "cell_type": "code",
   "execution_count": 61,
   "metadata": {},
   "outputs": [
    {
     "data": {
      "text/html": [
       "<div>\n",
       "<style scoped>\n",
       "    .dataframe tbody tr th:only-of-type {\n",
       "        vertical-align: middle;\n",
       "    }\n",
       "\n",
       "    .dataframe tbody tr th {\n",
       "        vertical-align: top;\n",
       "    }\n",
       "\n",
       "    .dataframe thead th {\n",
       "        text-align: right;\n",
       "    }\n",
       "</style>\n",
       "<table border=\"1\" class=\"dataframe\">\n",
       "  <thead>\n",
       "    <tr style=\"text-align: right;\">\n",
       "      <th></th>\n",
       "      <th>device_id</th>\n",
       "    </tr>\n",
       "    <tr>\n",
       "      <th>event_name</th>\n",
       "      <th></th>\n",
       "    </tr>\n",
       "  </thead>\n",
       "  <tbody>\n",
       "    <tr>\n",
       "      <th>CartScreenAppear</th>\n",
       "      <td>49</td>\n",
       "    </tr>\n",
       "    <tr>\n",
       "      <th>MainScreenAppear</th>\n",
       "      <td>195</td>\n",
       "    </tr>\n",
       "    <tr>\n",
       "      <th>OffersScreenAppear</th>\n",
       "      <td>41</td>\n",
       "    </tr>\n",
       "    <tr>\n",
       "      <th>PaymentScreenSuccessful</th>\n",
       "      <td>27</td>\n",
       "    </tr>\n",
       "    <tr>\n",
       "      <th>Tutorial</th>\n",
       "      <td>3</td>\n",
       "    </tr>\n",
       "  </tbody>\n",
       "</table>\n",
       "</div>"
      ],
      "text/plain": [
       "                         device_id\n",
       "event_name                        \n",
       "CartScreenAppear                49\n",
       "MainScreenAppear               195\n",
       "OffersScreenAppear              41\n",
       "PaymentScreenSuccessful         27\n",
       "Tutorial                         3"
      ]
     },
     "execution_count": 61,
     "metadata": {},
     "output_type": "execute_result"
    }
   ],
   "source": [
    "# Sacar el total de eventos excluidos\n",
    "Total_eventos_excluidos = Total_datos_excluidos.groupby('event_name').agg({'device_id': 'nunique'})\n",
    "Total_eventos_excluidos"
   ]
  },
  {
   "cell_type": "code",
   "execution_count": 62,
   "metadata": {},
   "outputs": [
    {
     "name": "stdout",
     "output_type": "stream",
     "text": [
      "323\n"
     ]
    }
   ],
   "source": [
    "# Sacar el total de usuarios excluidos\n",
    "Total_usuarios_excluidos = Total_datos_excluidos['device_id'].count()\n",
    "print(Total_usuarios_excluidos)"
   ]
  },
  {
   "cell_type": "code",
   "execution_count": 63,
   "metadata": {},
   "outputs": [
    {
     "data": {
      "text/html": [
       "<div>\n",
       "<style scoped>\n",
       "    .dataframe tbody tr th:only-of-type {\n",
       "        vertical-align: middle;\n",
       "    }\n",
       "\n",
       "    .dataframe tbody tr th {\n",
       "        vertical-align: top;\n",
       "    }\n",
       "\n",
       "    .dataframe thead th {\n",
       "        text-align: right;\n",
       "    }\n",
       "</style>\n",
       "<table border=\"1\" class=\"dataframe\">\n",
       "  <thead>\n",
       "    <tr style=\"text-align: right;\">\n",
       "      <th></th>\n",
       "      <th>device_id</th>\n",
       "    </tr>\n",
       "    <tr>\n",
       "      <th>experimento</th>\n",
       "      <th></th>\n",
       "    </tr>\n",
       "  </thead>\n",
       "  <tbody>\n",
       "    <tr>\n",
       "      <th>246</th>\n",
       "      <td>95</td>\n",
       "    </tr>\n",
       "    <tr>\n",
       "      <th>247</th>\n",
       "      <td>87</td>\n",
       "    </tr>\n",
       "    <tr>\n",
       "      <th>248</th>\n",
       "      <td>84</td>\n",
       "    </tr>\n",
       "  </tbody>\n",
       "</table>\n",
       "</div>"
      ],
      "text/plain": [
       "             device_id\n",
       "experimento           \n",
       "246                 95\n",
       "247                 87\n",
       "248                 84"
      ]
     },
     "execution_count": 63,
     "metadata": {},
     "output_type": "execute_result"
    }
   ],
   "source": [
    "# Conteo total de los grupos experimentales\n",
    "Total_usuarios_excluidos = Total_datos_excluidos.groupby('experimento').agg({'device_id': 'nunique'})\n",
    "Total_usuarios_excluidos"
   ]
  },
  {
   "cell_type": "code",
   "execution_count": 64,
   "metadata": {},
   "outputs": [
    {
     "data": {
      "text/html": [
       "<div>\n",
       "<style scoped>\n",
       "    .dataframe tbody tr th:only-of-type {\n",
       "        vertical-align: middle;\n",
       "    }\n",
       "\n",
       "    .dataframe tbody tr th {\n",
       "        vertical-align: top;\n",
       "    }\n",
       "\n",
       "    .dataframe thead th {\n",
       "        text-align: right;\n",
       "    }\n",
       "</style>\n",
       "<table border=\"1\" class=\"dataframe\">\n",
       "  <thead>\n",
       "    <tr style=\"text-align: right;\">\n",
       "      <th></th>\n",
       "      <th>device_id</th>\n",
       "      <th>experimento</th>\n",
       "      <th>event_name</th>\n",
       "      <th>fecha</th>\n",
       "      <th>event_timestamp</th>\n",
       "    </tr>\n",
       "  </thead>\n",
       "  <tbody>\n",
       "    <tr>\n",
       "      <th>384</th>\n",
       "      <td>2255262833937562054</td>\n",
       "      <td>246</td>\n",
       "      <td>MainScreenAppear</td>\n",
       "      <td>2019-07-30</td>\n",
       "      <td>2019-07-30 01:00:00</td>\n",
       "    </tr>\n",
       "    <tr>\n",
       "      <th>385</th>\n",
       "      <td>2729404905328132990</td>\n",
       "      <td>248</td>\n",
       "      <td>MainScreenAppear</td>\n",
       "      <td>2019-07-30</td>\n",
       "      <td>2019-07-30 01:00:00</td>\n",
       "    </tr>\n",
       "    <tr>\n",
       "      <th>386</th>\n",
       "      <td>6602771251234895823</td>\n",
       "      <td>247</td>\n",
       "      <td>MainScreenAppear</td>\n",
       "      <td>2019-07-30</td>\n",
       "      <td>2019-07-30 02:00:00</td>\n",
       "    </tr>\n",
       "  </tbody>\n",
       "</table>\n",
       "</div>"
      ],
      "text/plain": [
       "               device_id  experimento        event_name      fecha  \\\n",
       "384  2255262833937562054          246  MainScreenAppear 2019-07-30   \n",
       "385  2729404905328132990          248  MainScreenAppear 2019-07-30   \n",
       "386  6602771251234895823          247  MainScreenAppear 2019-07-30   \n",
       "\n",
       "        event_timestamp  \n",
       "384 2019-07-30 01:00:00  \n",
       "385 2019-07-30 01:00:00  \n",
       "386 2019-07-30 02:00:00  "
      ]
     },
     "execution_count": 64,
     "metadata": {},
     "output_type": "execute_result"
    }
   ],
   "source": [
    "# DataFrame filtrado cuando los datos comienzan a estar completos\n",
    "registro_filtrado = clean_registro.query(\"fecha >= '2019-07-30' and fecha <= '2019-08-07'\")[['device_id', 'experimento', 'event_name', 'fecha', 'event_timestamp']]\n",
    "registro_filtrado.head(3)"
   ]
  },
  {
   "cell_type": "markdown",
   "metadata": {},
   "source": [
    "### 3.6 Asegúrate de tener usuarios de los tres grupos experimentales."
   ]
  },
  {
   "cell_type": "code",
   "execution_count": 65,
   "metadata": {},
   "outputs": [
    {
     "data": {
      "text/html": [
       "<div>\n",
       "<style scoped>\n",
       "    .dataframe tbody tr th:only-of-type {\n",
       "        vertical-align: middle;\n",
       "    }\n",
       "\n",
       "    .dataframe tbody tr th {\n",
       "        vertical-align: top;\n",
       "    }\n",
       "\n",
       "    .dataframe thead th {\n",
       "        text-align: right;\n",
       "    }\n",
       "</style>\n",
       "<table border=\"1\" class=\"dataframe\">\n",
       "  <thead>\n",
       "    <tr style=\"text-align: right;\">\n",
       "      <th></th>\n",
       "      <th>Usuarios Únicos</th>\n",
       "    </tr>\n",
       "    <tr>\n",
       "      <th>experimento</th>\n",
       "      <th></th>\n",
       "    </tr>\n",
       "  </thead>\n",
       "  <tbody>\n",
       "    <tr>\n",
       "      <th>246</th>\n",
       "      <td>2487</td>\n",
       "    </tr>\n",
       "    <tr>\n",
       "      <th>247</th>\n",
       "      <td>2520</td>\n",
       "    </tr>\n",
       "    <tr>\n",
       "      <th>248</th>\n",
       "      <td>2540</td>\n",
       "    </tr>\n",
       "  </tbody>\n",
       "</table>\n",
       "</div>"
      ],
      "text/plain": [
       "             Usuarios Únicos\n",
       "experimento                 \n",
       "246                     2487\n",
       "247                     2520\n",
       "248                     2540"
      ]
     },
     "execution_count": 65,
     "metadata": {},
     "output_type": "execute_result"
    }
   ],
   "source": [
    "# Contar usuarios únicos en la columna\n",
    "conteo_experimento = (\n",
    "    registro_filtrado\n",
    "        .groupby('experimento')\n",
    "        .agg(\n",
    "            total_usuarios =('device_id','nunique')\n",
    "        )\n",
    "    .rename(columns={'total_usuarios': 'Usuarios Únicos'})\n",
    ")\n",
    "conteo_experimento"
   ]
  },
  {
   "cell_type": "code",
   "execution_count": 66,
   "metadata": {},
   "outputs": [
    {
     "data": {
      "image/png": "[encoded data removed]",
      "text/plain": [
       "<Figure size 1600x600 with 2 Axes>"
      ]
     },
     "metadata": {},
     "output_type": "display_data"
    }
   ],
   "source": [
    "# Configurar el gráfico\n",
    "fig, axs = plt.subplots(1, 2, figsize=(16, 6), sharey=True)\n",
    "\n",
    "# Gráfico 1 Datos filtrados por fechas\n",
    "conteo_experimento.plot(kind='bar', color='darkblue', ax=axs[0])\n",
    "axs[0].set_title('Usuarios Únicos por Experimento tras Limpieza de Datos')\n",
    "axs[0].set_xlabel('Experimento')\n",
    "axs[0].set_ylabel('Usuarios Únicos')\n",
    "axs[0].tick_params(axis='x', rotation=45)\n",
    "axs[0].grid(axis='y', linestyle='--', alpha=0.7)\n",
    "\n",
    "# Gráfico 2 Datos originales\n",
    "total_usuarios.plot(kind='bar', color='skyblue', ax=axs[1])\n",
    "axs[1].set_title('Usuarios Totales por Experimento')\n",
    "axs[1].set_xlabel('Experimento')\n",
    "axs[1].tick_params(axis='x', rotation=45)\n",
    "axs[1].grid(axis='y', linestyle='--', alpha=0.7)\n",
    "\n",
    "plt.tight_layout()\n",
    "plt.show()"
   ]
  },
  {
   "cell_type": "markdown",
   "metadata": {},
   "source": [
    "#### Análisis de resultados:\n",
    "\n",
    "Como se observa en la gráfica, contamos con una cantidad suficiente de usuarios únicos por experimento para continuar con nuestros análisis.\n",
    "\n",
    "Se decidió excluir los datos del 25 al 29 de julio debido a su bajo volumen de registros. Esta exclusión no afecta la validez del análisis, ya que:\n",
    "\n",
    "El comportamiento de los usuarios se estabiliza a partir del 30 de julio.\n",
    "\n",
    "La distribución de usuarios únicos entre los experimentos 246, 247 y 248 es muy similar, con diferencias mínimas:\n",
    "\n",
    "Experimento 246: 2,487 a 2392 usuarios únicos\n",
    "\n",
    "Experimento 247: 2,520 a 2433 usuarios únicos\n",
    "\n",
    "Experimento 248: 2,540 a 2456 usuarios únicos\n",
    "\n",
    "Estas pequeñas variaciones (<3%) indican que no hay sesgos de asignación relevantes entre los grupos, lo que nos da un punto de partida sólido para analizar el impacto de cada experimento en los eventos posteriores."
   ]
  },
  {
   "cell_type": "markdown",
   "metadata": {},
   "source": [
    "## Paso 4. Estudiar el embudo de eventos"
   ]
  },
  {
   "cell_type": "markdown",
   "metadata": {},
   "source": [
    "### 4.1 Observa qué eventos hay en los registros y su frecuencia de suceso. Ordénalos por frecuencia."
   ]
  },
  {
   "cell_type": "code",
   "execution_count": 67,
   "metadata": {},
   "outputs": [
    {
     "data": {
      "text/html": [
       "<div>\n",
       "<style scoped>\n",
       "    .dataframe tbody tr th:only-of-type {\n",
       "        vertical-align: middle;\n",
       "    }\n",
       "\n",
       "    .dataframe tbody tr th {\n",
       "        vertical-align: top;\n",
       "    }\n",
       "\n",
       "    .dataframe thead th {\n",
       "        text-align: right;\n",
       "    }\n",
       "</style>\n",
       "<table border=\"1\" class=\"dataframe\">\n",
       "  <thead>\n",
       "    <tr style=\"text-align: right;\">\n",
       "      <th></th>\n",
       "      <th>Total de Usuarios</th>\n",
       "    </tr>\n",
       "    <tr>\n",
       "      <th>event_name</th>\n",
       "      <th></th>\n",
       "    </tr>\n",
       "  </thead>\n",
       "  <tbody>\n",
       "    <tr>\n",
       "      <th>MainScreenAppear</th>\n",
       "      <td>44416</td>\n",
       "    </tr>\n",
       "    <tr>\n",
       "      <th>OffersScreenAppear</th>\n",
       "      <td>25452</td>\n",
       "    </tr>\n",
       "    <tr>\n",
       "      <th>CartScreenAppear</th>\n",
       "      <td>14686</td>\n",
       "    </tr>\n",
       "    <tr>\n",
       "      <th>PaymentScreenSuccessful</th>\n",
       "      <td>13079</td>\n",
       "    </tr>\n",
       "    <tr>\n",
       "      <th>Tutorial</th>\n",
       "      <td>886</td>\n",
       "    </tr>\n",
       "  </tbody>\n",
       "</table>\n",
       "</div>"
      ],
      "text/plain": [
       "                         Total de Usuarios\n",
       "event_name                                \n",
       "MainScreenAppear                     44416\n",
       "OffersScreenAppear                   25452\n",
       "CartScreenAppear                     14686\n",
       "PaymentScreenSuccessful              13079\n",
       "Tutorial                               886"
      ]
     },
     "execution_count": 67,
     "metadata": {},
     "output_type": "execute_result"
    }
   ],
   "source": [
    "# Observa qué eventos hay en los registros y su frecuencia de suceso. Ordénalos por frecuencia\n",
    "funnel_total_eventos = (\n",
    "    registro_filtrado\n",
    "        .groupby('event_name')\n",
    "        .agg(\n",
    "            total_usuarios =('device_id','count')\n",
    "        )\n",
    "    .rename(columns={'total_usuarios': 'Total de Usuarios'})\n",
    "    .sort_values(by='Total de Usuarios', ascending=False)\n",
    ")\n",
    "funnel_total_eventos"
   ]
  },
  {
   "cell_type": "markdown",
   "metadata": {},
   "source": [
    "### 4.2 Encuentra la cantidad de usuarios que realizaron cada una de estas acciones."
   ]
  },
  {
   "cell_type": "code",
   "execution_count": 68,
   "metadata": {},
   "outputs": [
    {
     "data": {
      "text/html": [
       "<div>\n",
       "<style scoped>\n",
       "    .dataframe tbody tr th:only-of-type {\n",
       "        vertical-align: middle;\n",
       "    }\n",
       "\n",
       "    .dataframe tbody tr th {\n",
       "        vertical-align: top;\n",
       "    }\n",
       "\n",
       "    .dataframe thead th {\n",
       "        text-align: right;\n",
       "    }\n",
       "</style>\n",
       "<table border=\"1\" class=\"dataframe\">\n",
       "  <thead>\n",
       "    <tr style=\"text-align: right;\">\n",
       "      <th></th>\n",
       "      <th>Usuarios Unicos</th>\n",
       "    </tr>\n",
       "    <tr>\n",
       "      <th>event_name</th>\n",
       "      <th></th>\n",
       "    </tr>\n",
       "  </thead>\n",
       "  <tbody>\n",
       "    <tr>\n",
       "      <th>MainScreenAppear</th>\n",
       "      <td>7435</td>\n",
       "    </tr>\n",
       "    <tr>\n",
       "      <th>OffersScreenAppear</th>\n",
       "      <td>4612</td>\n",
       "    </tr>\n",
       "    <tr>\n",
       "      <th>CartScreenAppear</th>\n",
       "      <td>3747</td>\n",
       "    </tr>\n",
       "    <tr>\n",
       "      <th>PaymentScreenSuccessful</th>\n",
       "      <td>3546</td>\n",
       "    </tr>\n",
       "    <tr>\n",
       "      <th>Tutorial</th>\n",
       "      <td>845</td>\n",
       "    </tr>\n",
       "  </tbody>\n",
       "</table>\n",
       "</div>"
      ],
      "text/plain": [
       "                         Usuarios Unicos\n",
       "event_name                              \n",
       "MainScreenAppear                    7435\n",
       "OffersScreenAppear                  4612\n",
       "CartScreenAppear                    3747\n",
       "PaymentScreenSuccessful             3546\n",
       "Tutorial                             845"
      ]
     },
     "execution_count": 68,
     "metadata": {},
     "output_type": "execute_result"
    }
   ],
   "source": [
    "# Encuentra la cantidad de usuarios que realizaron cada una de estas acciones. \n",
    "# Ordena los eventos por el número de usuarios. \n",
    "funnel_usuarios_unicos = (\n",
    "    registro_filtrado\n",
    "        .groupby('event_name')\n",
    "        .agg(\n",
    "            total_usuarios =('device_id','nunique')\n",
    "        )\n",
    "    .rename(columns={'total_usuarios': 'Usuarios Unicos'})\n",
    "    .sort_values(by='Usuarios Unicos', ascending=False)\n",
    ")\n",
    "funnel_usuarios_unicos"
   ]
  },
  {
   "cell_type": "code",
   "execution_count": 69,
   "metadata": {},
   "outputs": [
    {
     "data": {
      "image/png": "[encoded data removed]",
      "text/plain": [
       "<Figure size 1600x600 with 2 Axes>"
      ]
     },
     "metadata": {},
     "output_type": "display_data"
    }
   ],
   "source": [
    "# Graficamos para poder oberservar ambos resultados\n",
    "# Configurar el gráfico\n",
    "fig, axs = plt.subplots(1, 2, figsize=(16, 6), sharey=True)\n",
    "\n",
    "# Gráfico 1 Datos filtrados por fechas\n",
    "funnel_total_eventos.plot(kind='bar', color='lightcoral', ax=axs[0])\n",
    "axs[0].set_title('Total de Usuarios por eventos')\n",
    "axs[0].set_xlabel('Nombre Evento')\n",
    "axs[0].set_ylabel('Usuarios Totales')\n",
    "axs[0].tick_params(axis='x', rotation=45)\n",
    "axs[0].grid(axis='y', linestyle='--', alpha=0.7)\n",
    "\n",
    "\n",
    "# Gráfico 2 Datos originales\n",
    "funnel_usuarios_unicos.plot(kind='bar', color='firebrick', ax=axs[1])\n",
    "axs[1].set_title('Usuarios Unicos por Evento')\n",
    "axs[1].set_xlabel('Nombre Evento')\n",
    "axs[1].tick_params(axis='x', rotation=45)\n",
    "axs[1].grid(axis='y', linestyle='--', alpha=0.7)\n",
    "\n",
    "\n",
    "plt.tight_layout()\n",
    "plt.show()"
   ]
  },
  {
   "cell_type": "markdown",
   "metadata": {},
   "source": [
    "#### 4.2.1 Ordena los eventos por el número de usuarios. Calcula la proporción de usuarios que realizaron la acción al menos una vez."
   ]
  },
  {
   "cell_type": "code",
   "execution_count": 70,
   "metadata": {},
   "outputs": [
    {
     "data": {
      "text/html": [
       "<div>\n",
       "<style scoped>\n",
       "    .dataframe tbody tr th:only-of-type {\n",
       "        vertical-align: middle;\n",
       "    }\n",
       "\n",
       "    .dataframe tbody tr th {\n",
       "        vertical-align: top;\n",
       "    }\n",
       "\n",
       "    .dataframe thead th {\n",
       "        text-align: right;\n",
       "    }\n",
       "</style>\n",
       "<table border=\"1\" class=\"dataframe\">\n",
       "  <thead>\n",
       "    <tr style=\"text-align: right;\">\n",
       "      <th></th>\n",
       "      <th>Total de Usuarios</th>\n",
       "      <th>Usuarios Unicos</th>\n",
       "    </tr>\n",
       "    <tr>\n",
       "      <th>event_name</th>\n",
       "      <th></th>\n",
       "      <th></th>\n",
       "    </tr>\n",
       "  </thead>\n",
       "  <tbody>\n",
       "    <tr>\n",
       "      <th>MainScreenAppear</th>\n",
       "      <td>44416</td>\n",
       "      <td>7435</td>\n",
       "    </tr>\n",
       "    <tr>\n",
       "      <th>OffersScreenAppear</th>\n",
       "      <td>25452</td>\n",
       "      <td>4612</td>\n",
       "    </tr>\n",
       "    <tr>\n",
       "      <th>CartScreenAppear</th>\n",
       "      <td>14686</td>\n",
       "      <td>3747</td>\n",
       "    </tr>\n",
       "    <tr>\n",
       "      <th>PaymentScreenSuccessful</th>\n",
       "      <td>13079</td>\n",
       "      <td>3546</td>\n",
       "    </tr>\n",
       "    <tr>\n",
       "      <th>Tutorial</th>\n",
       "      <td>886</td>\n",
       "      <td>845</td>\n",
       "    </tr>\n",
       "  </tbody>\n",
       "</table>\n",
       "</div>"
      ],
      "text/plain": [
       "                         Total de Usuarios  Usuarios Unicos\n",
       "event_name                                                 \n",
       "MainScreenAppear                     44416             7435\n",
       "OffersScreenAppear                   25452             4612\n",
       "CartScreenAppear                     14686             3747\n",
       "PaymentScreenSuccessful              13079             3546\n",
       "Tutorial                               886              845"
      ]
     },
     "execution_count": 70,
     "metadata": {},
     "output_type": "execute_result"
    }
   ],
   "source": [
    "Funnel_eventos = funnel_total_eventos.merge(\n",
    "        funnel_usuarios_unicos,\n",
    "        right_on='event_name',\n",
    "        left_on='event_name',\n",
    "        suffixes=['_total_usuarios', '_usuarios_unicos']\n",
    "    )\n",
    "Funnel_eventos"
   ]
  },
  {
   "cell_type": "markdown",
   "metadata": {},
   "source": [
    "#### 4.2.2 Calcula la proporción de usuarios que realizaron la acción al menos una vez."
   ]
  },
  {
   "cell_type": "code",
   "execution_count": 71,
   "metadata": {},
   "outputs": [
    {
     "data": {
      "text/html": [
       "<div>\n",
       "<style scoped>\n",
       "    .dataframe tbody tr th:only-of-type {\n",
       "        vertical-align: middle;\n",
       "    }\n",
       "\n",
       "    .dataframe tbody tr th {\n",
       "        vertical-align: top;\n",
       "    }\n",
       "\n",
       "    .dataframe thead th {\n",
       "        text-align: right;\n",
       "    }\n",
       "</style>\n",
       "<table border=\"1\" class=\"dataframe\">\n",
       "  <thead>\n",
       "    <tr style=\"text-align: right;\">\n",
       "      <th></th>\n",
       "      <th>Total de Usuarios</th>\n",
       "      <th>Usuarios Unicos</th>\n",
       "      <th>Proporcion</th>\n",
       "    </tr>\n",
       "    <tr>\n",
       "      <th>event_name</th>\n",
       "      <th></th>\n",
       "      <th></th>\n",
       "      <th></th>\n",
       "    </tr>\n",
       "  </thead>\n",
       "  <tbody>\n",
       "    <tr>\n",
       "      <th>MainScreenAppear</th>\n",
       "      <td>44416</td>\n",
       "      <td>7435</td>\n",
       "      <td>16.74</td>\n",
       "    </tr>\n",
       "    <tr>\n",
       "      <th>OffersScreenAppear</th>\n",
       "      <td>25452</td>\n",
       "      <td>4612</td>\n",
       "      <td>18.12</td>\n",
       "    </tr>\n",
       "    <tr>\n",
       "      <th>CartScreenAppear</th>\n",
       "      <td>14686</td>\n",
       "      <td>3747</td>\n",
       "      <td>25.51</td>\n",
       "    </tr>\n",
       "    <tr>\n",
       "      <th>PaymentScreenSuccessful</th>\n",
       "      <td>13079</td>\n",
       "      <td>3546</td>\n",
       "      <td>27.11</td>\n",
       "    </tr>\n",
       "    <tr>\n",
       "      <th>Tutorial</th>\n",
       "      <td>886</td>\n",
       "      <td>845</td>\n",
       "      <td>95.37</td>\n",
       "    </tr>\n",
       "  </tbody>\n",
       "</table>\n",
       "</div>"
      ],
      "text/plain": [
       "                         Total de Usuarios  Usuarios Unicos  Proporcion\n",
       "event_name                                                             \n",
       "MainScreenAppear                     44416             7435       16.74\n",
       "OffersScreenAppear                   25452             4612       18.12\n",
       "CartScreenAppear                     14686             3747       25.51\n",
       "PaymentScreenSuccessful              13079             3546       27.11\n",
       "Tutorial                               886              845       95.37"
      ]
     },
     "execution_count": 71,
     "metadata": {},
     "output_type": "execute_result"
    }
   ],
   "source": [
    "# Calcula la proporción de usuarios que realizaron la acción al menos una vez.\n",
    "Funnel_eventos['Proporcion'] = ((Funnel_eventos['Usuarios Unicos'] / Funnel_eventos['Total de Usuarios']) * 100).round(2)\n",
    "Funnel_eventos"
   ]
  },
  {
   "cell_type": "markdown",
   "metadata": {},
   "source": [
    "#### Análisis de resultados:\n",
    "\n",
    "Para el análisis del funnel principal de eventos decidí enfocarme únicamente en los eventos OffersScreenAppear, CartScreenAppear, PaymentScreenSuccessful y Tutorial. Esta selección se basa en que los tres primeros representan una secuencia clara en el proceso de compra del usuario. El evento OffersScreenAppear indica que el usuario mostró interés al ver las ofertas disponibles. Luego, CartScreenAppear refleja una intención más concreta al ingresar al carrito, y finalmente, PaymentScreenSuccessful marca que la conversión se completó con éxito. Incluí el evento Tutorial como un paso adicional posterior a la compra, ya que algunos usuarios lo exploran luego de haber realizado su pago. Otros eventos presentes en los datos no fueron considerados para este análisis porque no forman parte directa de este flujo de conversión o no aportan información relevante sobre la intención de compra."
   ]
  },
  {
   "cell_type": "code",
   "execution_count": 72,
   "metadata": {},
   "outputs": [
    {
     "data": {
      "text/html": [
       "<div>\n",
       "<style scoped>\n",
       "    .dataframe tbody tr th:only-of-type {\n",
       "        vertical-align: middle;\n",
       "    }\n",
       "\n",
       "    .dataframe tbody tr th {\n",
       "        vertical-align: top;\n",
       "    }\n",
       "\n",
       "    .dataframe thead th {\n",
       "        text-align: right;\n",
       "    }\n",
       "</style>\n",
       "<table border=\"1\" class=\"dataframe\">\n",
       "  <thead>\n",
       "    <tr style=\"text-align: right;\">\n",
       "      <th>event_name</th>\n",
       "      <th>CartScreenAppear</th>\n",
       "      <th>MainScreenAppear</th>\n",
       "      <th>OffersScreenAppear</th>\n",
       "      <th>PaymentScreenSuccessful</th>\n",
       "      <th>Tutorial</th>\n",
       "    </tr>\n",
       "    <tr>\n",
       "      <th>device_id</th>\n",
       "      <th></th>\n",
       "      <th></th>\n",
       "      <th></th>\n",
       "      <th></th>\n",
       "      <th></th>\n",
       "    </tr>\n",
       "  </thead>\n",
       "  <tbody>\n",
       "    <tr>\n",
       "      <th>6888746892508752</th>\n",
       "      <td>NaT</td>\n",
       "      <td>2019-08-06 14:00:00</td>\n",
       "      <td>NaT</td>\n",
       "      <td>NaT</td>\n",
       "      <td>NaT</td>\n",
       "    </tr>\n",
       "    <tr>\n",
       "      <th>6909561520679493</th>\n",
       "      <td>2019-08-06 18:00:00</td>\n",
       "      <td>2019-08-06 18:00:00</td>\n",
       "      <td>2019-08-06 18:00:00</td>\n",
       "      <td>2019-08-06 18:00:00</td>\n",
       "      <td>NaT</td>\n",
       "    </tr>\n",
       "    <tr>\n",
       "      <th>6922444491712477</th>\n",
       "      <td>2019-08-04 14:00:00</td>\n",
       "      <td>2019-08-04 14:00:00</td>\n",
       "      <td>2019-08-04 14:00:00</td>\n",
       "      <td>2019-08-04 14:00:00</td>\n",
       "      <td>NaT</td>\n",
       "    </tr>\n",
       "  </tbody>\n",
       "</table>\n",
       "</div>"
      ],
      "text/plain": [
       "event_name          CartScreenAppear    MainScreenAppear  OffersScreenAppear  \\\n",
       "device_id                                                                      \n",
       "6888746892508752                 NaT 2019-08-06 14:00:00                 NaT   \n",
       "6909561520679493 2019-08-06 18:00:00 2019-08-06 18:00:00 2019-08-06 18:00:00   \n",
       "6922444491712477 2019-08-04 14:00:00 2019-08-04 14:00:00 2019-08-04 14:00:00   \n",
       "\n",
       "event_name       PaymentScreenSuccessful Tutorial  \n",
       "device_id                                          \n",
       "6888746892508752                     NaT      NaT  \n",
       "6909561520679493     2019-08-06 18:00:00      NaT  \n",
       "6922444491712477     2019-08-04 14:00:00      NaT  "
      ]
     },
     "execution_count": 72,
     "metadata": {},
     "output_type": "execute_result"
    }
   ],
   "source": [
    "# Utiliza el embudo de eventos para encontrar la proporción de usuarios que pasan de una etapa a la siguiente.\n",
    "Funnel_x_eventos = registro_filtrado.pivot_table(\n",
    "    index='device_id',\n",
    "    columns='event_name',\n",
    "    values='event_timestamp',\n",
    "    aggfunc='min'\n",
    ")\n",
    "Funnel_x_eventos.head(3)"
   ]
  },
  {
   "cell_type": "markdown",
   "metadata": {},
   "source": [
    "### 4.3 Utiliza el embudo de eventos para encontrar la proporción de usuarios que pasan de una etapa a la siguiente. ¿En qué etapa pierdes más usuarios? ¿Qué porcentaje de usuarios hace todo el viaje desde su primer evento hasta el pago?"
   ]
  },
  {
   "cell_type": "code",
   "execution_count": 73,
   "metadata": {},
   "outputs": [
    {
     "name": "stdout",
     "output_type": "stream",
     "text": [
      "Main Screen Appear: 7435\n",
      "Offers Screen Appear: 1232\n",
      "Cart Screen Appear: 180\n",
      "Payment Screen Successful: 180\n"
     ]
    }
   ],
   "source": [
    "# Trazar el embudo\n",
    "paso1 = ~Funnel_x_eventos['MainScreenAppear'].isna()\n",
    "paso2 = paso1 & (Funnel_x_eventos['OffersScreenAppear'] > Funnel_x_eventos['MainScreenAppear'])\n",
    "paso3 = paso2 & (Funnel_x_eventos['CartScreenAppear'] > Funnel_x_eventos['OffersScreenAppear'])\n",
    "paso4 = paso3 & (Funnel_x_eventos['PaymentScreenSuccessful'] > Funnel_x_eventos['CartScreenAppear'])\n",
    "\n",
    "n_MainScreenAppear = Funnel_x_eventos[paso1].shape[0]\n",
    "n_OffersScreenAppear = Funnel_x_eventos[paso2].shape[0]\n",
    "n_CartScreenAppear = Funnel_x_eventos[paso3].shape[0]\n",
    "n_PaymentScreenSuccessful = Funnel_x_eventos[paso4].shape[0]\n",
    "\n",
    "print('Main Screen Appear:', n_MainScreenAppear)\n",
    "print('Offers Screen Appear:', n_OffersScreenAppear)\n",
    "print('Cart Screen Appear:',n_CartScreenAppear)\n",
    "print('Payment Screen Successful:',n_CartScreenAppear)\n"
   ]
  },
  {
   "cell_type": "markdown",
   "metadata": {},
   "source": [
    "#### Análisis de resultados:\n",
    "\n",
    "El análisis del embudo muestra una caída notable en la conversión entre la pantalla de ofertas (Offers Screen Appear) y el carrito de compras (Cart Screen Appear), lo que indica un punto crítico de fuga.\n",
    "\n",
    "##### Hallazgos principales:\n",
    "\n",
    "Solo 180 usuarios (22.5%) completan todo el recorrido desde la pantalla principal hasta una compra exitosa.\n",
    "\n",
    "La mayor pérdida ocurre en la transición de Offers Screen a Cart Screen, donde más de la mitad de los usuarios no continúa con el flujo.\n",
    "\n",
    "##### Recomendación:\n",
    "\n",
    "Es importante revisar y optimizar la experiencia en la sección de ofertas. Mejorar el diseño, la claridad de los beneficios o la relevancia de los productos mostrados podría incrementar la tasa de conversión hacia la compra."
   ]
  },
  {
   "cell_type": "markdown",
   "metadata": {},
   "source": [
    "## Paso 5. Estudiar los resultados del experimento"
   ]
  },
  {
   "cell_type": "markdown",
   "metadata": {},
   "source": [
    "### 5.1 Cantidad de usuarios que hay en cada grupo"
   ]
  },
  {
   "cell_type": "code",
   "execution_count": 74,
   "metadata": {},
   "outputs": [
    {
     "data": {
      "text/html": [
       "<div>\n",
       "<style scoped>\n",
       "    .dataframe tbody tr th:only-of-type {\n",
       "        vertical-align: middle;\n",
       "    }\n",
       "\n",
       "    .dataframe tbody tr th {\n",
       "        vertical-align: top;\n",
       "    }\n",
       "\n",
       "    .dataframe thead th {\n",
       "        text-align: right;\n",
       "    }\n",
       "</style>\n",
       "<table border=\"1\" class=\"dataframe\">\n",
       "  <thead>\n",
       "    <tr style=\"text-align: right;\">\n",
       "      <th></th>\n",
       "      <th>Usuarios Únicos</th>\n",
       "    </tr>\n",
       "    <tr>\n",
       "      <th>experimento</th>\n",
       "      <th></th>\n",
       "    </tr>\n",
       "  </thead>\n",
       "  <tbody>\n",
       "    <tr>\n",
       "      <th>246</th>\n",
       "      <td>2487</td>\n",
       "    </tr>\n",
       "    <tr>\n",
       "      <th>247</th>\n",
       "      <td>2520</td>\n",
       "    </tr>\n",
       "    <tr>\n",
       "      <th>248</th>\n",
       "      <td>2540</td>\n",
       "    </tr>\n",
       "  </tbody>\n",
       "</table>\n",
       "</div>"
      ],
      "text/plain": [
       "             Usuarios Únicos\n",
       "experimento                 \n",
       "246                     2487\n",
       "247                     2520\n",
       "248                     2540"
      ]
     },
     "execution_count": 74,
     "metadata": {},
     "output_type": "execute_result"
    }
   ],
   "source": [
    "# Agrupar por experimentos\n",
    "experimento_totales = (\n",
    "    registro_filtrado\n",
    "        .groupby('experimento')\n",
    "        .agg(\n",
    "            total_usuarios =('device_id','nunique')\n",
    "        )\n",
    "    .rename(columns={'total_usuarios': 'Usuarios Únicos'})\n",
    ")\n",
    "experimento_totales"
   ]
  },
  {
   "cell_type": "markdown",
   "metadata": {},
   "source": [
    "#### Comparación entre grupos del experimento\n",
    "\n",
    "Podemos observar que la cantidad de usuarios únicos por experimento es bastante similar, lo cual es positivo. Esto indica que la asignación a los grupos fue equilibrada y no hubo sesgos significativos en la distribución.\n",
    "\n",
    "La diferencia entre grupos es mínima, por lo tanto, los resultados que se obtengan al comparar su comportamiento serán más confiables, ya que cada grupo representa poblaciones equivalentes en tamaño."
   ]
  },
  {
   "cell_type": "markdown",
   "metadata": {},
   "source": [
    "### 5.2 Tenemos dos grupos de control en el test A/A, donde comprobamos nuestros mecanismos y cálculos. Observa si hay una diferencia estadísticamente significativa entre las muestras 246 y 247."
   ]
  },
  {
   "cell_type": "code",
   "execution_count": 82,
   "metadata": {},
   "outputs": [],
   "source": [
    "usuarios_246 = registro_filtrado.query(\"experimento == 246\").groupby('device_id')['event_name'].count()\n",
    "usuarios_247 = registro_filtrado.query(\"experimento == 247\").groupby('device_id')['event_name'].count()"
   ]
  },
  {
   "cell_type": "code",
   "execution_count": 89,
   "metadata": {},
   "outputs": [
    {
     "name": "stdout",
     "output_type": "stream",
     "text": [
      "valor p: 0.9745851216510192\n",
      "t_stat: 0.031859808020816525\n",
      "No se rechaza H0: no hay diferencias significativas.\n"
     ]
    }
   ],
   "source": [
    "# Student's t-test para muestras independientes\n",
    "alpha = 0.05\n",
    "t_stat, p_value = st.ttest_ind(usuarios_246, usuarios_247, equal_var=False)\n",
    "print('valor p:', p_value)\n",
    "print('t_stat:', t_stat)\n",
    "\n",
    "if p_value < alpha:\n",
    "    print(\"Rechazamos H0: hay diferencias significativas entre los grupos.\")\n",
    "else:\n",
    "    print(\"No se rechaza H0: no hay diferencias significativas.\")"
   ]
  },
  {
   "cell_type": "markdown",
   "metadata": {},
   "source": [
    "#### Análisis de resultados:\n",
    "\n",
    "Los grupos 246 y 247 se comportan prácticamente igual. No hay diferencias significativas en los resultados, lo que indica que el sistema de medición y el muestreo están funcionando correctamente."
   ]
  },
  {
   "cell_type": "markdown",
   "metadata": {},
   "source": [
    "### 5.3 Selecciona el evento más popular. En cada uno de los grupos de control, encuentra la cantidad de usuarios que realizaron esta acción. Encuentra su proporción."
   ]
  },
  {
   "cell_type": "code",
   "execution_count": 103,
   "metadata": {},
   "outputs": [
    {
     "data": {
      "text/html": [
       "<div>\n",
       "<style scoped>\n",
       "    .dataframe tbody tr th:only-of-type {\n",
       "        vertical-align: middle;\n",
       "    }\n",
       "\n",
       "    .dataframe tbody tr th {\n",
       "        vertical-align: top;\n",
       "    }\n",
       "\n",
       "    .dataframe thead th {\n",
       "        text-align: right;\n",
       "    }\n",
       "</style>\n",
       "<table border=\"1\" class=\"dataframe\">\n",
       "  <thead>\n",
       "    <tr style=\"text-align: right;\">\n",
       "      <th></th>\n",
       "      <th>evento</th>\n",
       "      <th>usuarios_grupo1</th>\n",
       "      <th>usuarios_grupo2</th>\n",
       "      <th>proporcion_grupo1</th>\n",
       "      <th>proporcion_grupo2</th>\n",
       "      <th>p_value</th>\n",
       "      <th>significativo</th>\n",
       "    </tr>\n",
       "  </thead>\n",
       "  <tbody>\n",
       "    <tr>\n",
       "      <th>0</th>\n",
       "      <td>MainScreenAppear</td>\n",
       "      <td>2454</td>\n",
       "      <td>2482</td>\n",
       "      <td>98.67</td>\n",
       "      <td>98.49</td>\n",
       "      <td>0.58801</td>\n",
       "      <td>False</td>\n",
       "    </tr>\n",
       "    <tr>\n",
       "      <th>1</th>\n",
       "      <td>OffersScreenAppear</td>\n",
       "      <td>1545</td>\n",
       "      <td>1529</td>\n",
       "      <td>62.12</td>\n",
       "      <td>60.67</td>\n",
       "      <td>0.29253</td>\n",
       "      <td>False</td>\n",
       "    </tr>\n",
       "    <tr>\n",
       "      <th>2</th>\n",
       "      <td>CartScreenAppear</td>\n",
       "      <td>1269</td>\n",
       "      <td>1240</td>\n",
       "      <td>51.03</td>\n",
       "      <td>49.21</td>\n",
       "      <td>0.19806</td>\n",
       "      <td>False</td>\n",
       "    </tr>\n",
       "    <tr>\n",
       "      <th>3</th>\n",
       "      <td>PaymentScreenSuccessful</td>\n",
       "      <td>1202</td>\n",
       "      <td>1160</td>\n",
       "      <td>48.33</td>\n",
       "      <td>46.03</td>\n",
       "      <td>0.10315</td>\n",
       "      <td>False</td>\n",
       "    </tr>\n",
       "    <tr>\n",
       "      <th>4</th>\n",
       "      <td>Tutorial</td>\n",
       "      <td>278</td>\n",
       "      <td>285</td>\n",
       "      <td>11.18</td>\n",
       "      <td>11.31</td>\n",
       "      <td>0.88301</td>\n",
       "      <td>False</td>\n",
       "    </tr>\n",
       "  </tbody>\n",
       "</table>\n",
       "</div>"
      ],
      "text/plain": [
       "                    evento  usuarios_grupo1  usuarios_grupo2  \\\n",
       "0         MainScreenAppear             2454             2482   \n",
       "1       OffersScreenAppear             1545             1529   \n",
       "2         CartScreenAppear             1269             1240   \n",
       "3  PaymentScreenSuccessful             1202             1160   \n",
       "4                 Tutorial              278              285   \n",
       "\n",
       "   proporcion_grupo1  proporcion_grupo2  p_value  significativo  \n",
       "0              98.67              98.49  0.58801          False  \n",
       "1              62.12              60.67  0.29253          False  \n",
       "2              51.03              49.21  0.19806          False  \n",
       "3              48.33              46.03  0.10315          False  \n",
       "4              11.18              11.31  0.88301          False  "
      ]
     },
     "execution_count": 103,
     "metadata": {},
     "output_type": "execute_result"
    }
   ],
   "source": [
    "# Funcion para Z-test de las proporciones de cada evento por experimento\n",
    "def z_test_proporciones(evento, Funnel_exp1, Funnel_exp2, exp_1_total, exp_2_total, alpha=0.05):\n",
    "    proporcion1 = Funnel_exp1 / exp_1_total\n",
    "    proporcion2 = Funnel_exp2 / exp_2_total\n",
    "    proporcion_combinada = (Funnel_exp1 + Funnel_exp2) / (exp_1_total + exp_2_total)\n",
    "    #Estadistico Z\n",
    "    z_value = (proporcion1 - proporcion2) / mth.sqrt(proporcion_combinada * (1 - proporcion_combinada) * (1/exp_1_total + 1/exp_2_total))\n",
    "    distr = st.norm(0, 1)\n",
    "    p_value = (1 - distr.cdf(abs(z_value))) * 2\n",
    "    \n",
    "    return {\n",
    "        \"evento\": evento,\n",
    "        \"usuarios_grupo1\": Funnel_exp1,\n",
    "        \"usuarios_grupo2\": Funnel_exp2,\n",
    "        \"proporcion_grupo1\": round(proporcion1*100, 2),\n",
    "        \"proporcion_grupo2\": round(proporcion2*100, 2),\n",
    "        \"p_value\": round(p_value, 5),\n",
    "        \"significativo\": p_value < alpha\n",
    "    }\n",
    "\n",
    "# Datos base experimento 246 vs 247\n",
    "eventos = registro_filtrado['event_name'].unique()\n",
    "exp_1_total = registro_filtrado.query(\"experimento == 246\")['device_id'].nunique()\n",
    "exp_2_total = registro_filtrado.query(\"experimento == 247\")['device_id'].nunique()\n",
    "\n",
    "# Aplicar para todos los eventos\n",
    "resultados = []\n",
    "for evento in eventos:\n",
    "    Funnel_exp1 = registro_filtrado.query(\"experimento == 246 and event_name == @evento\")['device_id'].nunique()\n",
    "    Funnel_exp2 = registro_filtrado.query(\"experimento == 247 and event_name == @evento\")['device_id'].nunique()\n",
    "    resultados.append(z_test_proporciones(evento, Funnel_exp1, Funnel_exp2, exp_1_total, exp_2_total, alpha=0.05))\n",
    "\n",
    "tabla_resultados = pd.DataFrame(resultados)\n",
    "tabla_resultados"
   ]
  },
  {
   "cell_type": "markdown",
   "metadata": {},
   "source": [
    "#### Análisis de resultados:\n",
    "\n",
    "Las proporciones de usuarios que realizaron cada evento son prácticamente iguales en ambos grupos. Con p-valores muy por encima de 0.05 en todos los casos, no se rechaza la hipótesis nula, lo que confirma que los grupos se dividieron correctamente y que no hay sesgo entre ellos."
   ]
  },
  {
   "cell_type": "markdown",
   "metadata": {},
   "source": [
    "### 5.4 Haz lo mismo para el grupo con fuentes alteradas. Compara los resultados con los de cada uno de los grupos de control para cada evento de forma aislada. Compara los resultados con los resultados combinados de los grupos de control."
   ]
  },
  {
   "cell_type": "code",
   "execution_count": 110,
   "metadata": {},
   "outputs": [
    {
     "data": {
      "text/html": [
       "<div>\n",
       "<style scoped>\n",
       "    .dataframe tbody tr th:only-of-type {\n",
       "        vertical-align: middle;\n",
       "    }\n",
       "\n",
       "    .dataframe tbody tr th {\n",
       "        vertical-align: top;\n",
       "    }\n",
       "\n",
       "    .dataframe thead th {\n",
       "        text-align: right;\n",
       "    }\n",
       "</style>\n",
       "<table border=\"1\" class=\"dataframe\">\n",
       "  <thead>\n",
       "    <tr style=\"text-align: right;\">\n",
       "      <th></th>\n",
       "      <th>evento</th>\n",
       "      <th>usuarios_grupo1</th>\n",
       "      <th>usuarios_grupo2</th>\n",
       "      <th>proporcion_grupo1</th>\n",
       "      <th>proporcion_grupo2</th>\n",
       "      <th>p_value</th>\n",
       "      <th>significativo</th>\n",
       "    </tr>\n",
       "  </thead>\n",
       "  <tbody>\n",
       "    <tr>\n",
       "      <th>0</th>\n",
       "      <td>MainScreenAppear</td>\n",
       "      <td>2454</td>\n",
       "      <td>2499</td>\n",
       "      <td>98.67</td>\n",
       "      <td>98.39</td>\n",
       "      <td>0.39779</td>\n",
       "      <td>False</td>\n",
       "    </tr>\n",
       "    <tr>\n",
       "      <th>1</th>\n",
       "      <td>OffersScreenAppear</td>\n",
       "      <td>1545</td>\n",
       "      <td>1538</td>\n",
       "      <td>62.12</td>\n",
       "      <td>60.55</td>\n",
       "      <td>0.25256</td>\n",
       "      <td>False</td>\n",
       "    </tr>\n",
       "    <tr>\n",
       "      <th>2</th>\n",
       "      <td>CartScreenAppear</td>\n",
       "      <td>1269</td>\n",
       "      <td>1238</td>\n",
       "      <td>51.03</td>\n",
       "      <td>48.74</td>\n",
       "      <td>0.10520</td>\n",
       "      <td>False</td>\n",
       "    </tr>\n",
       "    <tr>\n",
       "      <th>3</th>\n",
       "      <td>PaymentScreenSuccessful</td>\n",
       "      <td>1202</td>\n",
       "      <td>1184</td>\n",
       "      <td>48.33</td>\n",
       "      <td>46.61</td>\n",
       "      <td>0.22285</td>\n",
       "      <td>False</td>\n",
       "    </tr>\n",
       "    <tr>\n",
       "      <th>4</th>\n",
       "      <td>Tutorial</td>\n",
       "      <td>278</td>\n",
       "      <td>282</td>\n",
       "      <td>11.18</td>\n",
       "      <td>11.10</td>\n",
       "      <td>0.93197</td>\n",
       "      <td>False</td>\n",
       "    </tr>\n",
       "  </tbody>\n",
       "</table>\n",
       "</div>"
      ],
      "text/plain": [
       "                    evento  usuarios_grupo1  usuarios_grupo2  \\\n",
       "0         MainScreenAppear             2454             2499   \n",
       "1       OffersScreenAppear             1545             1538   \n",
       "2         CartScreenAppear             1269             1238   \n",
       "3  PaymentScreenSuccessful             1202             1184   \n",
       "4                 Tutorial              278              282   \n",
       "\n",
       "   proporcion_grupo1  proporcion_grupo2  p_value  significativo  \n",
       "0              98.67              98.39  0.39779          False  \n",
       "1              62.12              60.55  0.25256          False  \n",
       "2              51.03              48.74  0.10520          False  \n",
       "3              48.33              46.61  0.22285          False  \n",
       "4              11.18              11.10  0.93197          False  "
      ]
     },
     "execution_count": 110,
     "metadata": {},
     "output_type": "execute_result"
    }
   ],
   "source": [
    "# Datos base del experimento 246 vs 248\n",
    "eventos = registro_filtrado['event_name'].unique()\n",
    "exp_1_total = registro_filtrado.query(\"experimento == 246\")['device_id'].nunique()\n",
    "exp_2_total = registro_filtrado.query(\"experimento == 248\")['device_id'].nunique()\n",
    "\n",
    "# Aplicar para todos los eventos\n",
    "resultados = []\n",
    "for evento in eventos:\n",
    "    Funnel_exp1 = registro_filtrado.query(\"experimento == 246 and event_name == @evento\")['device_id'].nunique()\n",
    "    Funnel_exp2 = registro_filtrado.query(\"experimento == 248 and event_name == @evento\")['device_id'].nunique()\n",
    "    resultados.append(z_test_proporciones(evento, Funnel_exp1, Funnel_exp2, exp_1_total, exp_2_total, alpha=0.05))\n",
    "\n",
    "tabla_resultados = pd.DataFrame(resultados)\n",
    "tabla_resultados"
   ]
  },
  {
   "cell_type": "code",
   "execution_count": 112,
   "metadata": {},
   "outputs": [
    {
     "data": {
      "text/html": [
       "<div>\n",
       "<style scoped>\n",
       "    .dataframe tbody tr th:only-of-type {\n",
       "        vertical-align: middle;\n",
       "    }\n",
       "\n",
       "    .dataframe tbody tr th {\n",
       "        vertical-align: top;\n",
       "    }\n",
       "\n",
       "    .dataframe thead th {\n",
       "        text-align: right;\n",
       "    }\n",
       "</style>\n",
       "<table border=\"1\" class=\"dataframe\">\n",
       "  <thead>\n",
       "    <tr style=\"text-align: right;\">\n",
       "      <th></th>\n",
       "      <th>evento</th>\n",
       "      <th>usuarios_grupo1</th>\n",
       "      <th>usuarios_grupo2</th>\n",
       "      <th>proporcion_grupo1</th>\n",
       "      <th>proporcion_grupo2</th>\n",
       "      <th>p_value</th>\n",
       "      <th>significativo</th>\n",
       "    </tr>\n",
       "  </thead>\n",
       "  <tbody>\n",
       "    <tr>\n",
       "      <th>0</th>\n",
       "      <td>MainScreenAppear</td>\n",
       "      <td>2482</td>\n",
       "      <td>2499</td>\n",
       "      <td>98.49</td>\n",
       "      <td>98.39</td>\n",
       "      <td>0.76053</td>\n",
       "      <td>False</td>\n",
       "    </tr>\n",
       "    <tr>\n",
       "      <th>1</th>\n",
       "      <td>OffersScreenAppear</td>\n",
       "      <td>1529</td>\n",
       "      <td>1538</td>\n",
       "      <td>60.67</td>\n",
       "      <td>60.55</td>\n",
       "      <td>0.92841</td>\n",
       "      <td>False</td>\n",
       "    </tr>\n",
       "    <tr>\n",
       "      <th>2</th>\n",
       "      <td>CartScreenAppear</td>\n",
       "      <td>1240</td>\n",
       "      <td>1238</td>\n",
       "      <td>49.21</td>\n",
       "      <td>48.74</td>\n",
       "      <td>0.74013</td>\n",
       "      <td>False</td>\n",
       "    </tr>\n",
       "    <tr>\n",
       "      <th>3</th>\n",
       "      <td>PaymentScreenSuccessful</td>\n",
       "      <td>1160</td>\n",
       "      <td>1184</td>\n",
       "      <td>46.03</td>\n",
       "      <td>46.61</td>\n",
       "      <td>0.67783</td>\n",
       "      <td>False</td>\n",
       "    </tr>\n",
       "    <tr>\n",
       "      <th>4</th>\n",
       "      <td>Tutorial</td>\n",
       "      <td>285</td>\n",
       "      <td>282</td>\n",
       "      <td>11.31</td>\n",
       "      <td>11.10</td>\n",
       "      <td>0.81531</td>\n",
       "      <td>False</td>\n",
       "    </tr>\n",
       "  </tbody>\n",
       "</table>\n",
       "</div>"
      ],
      "text/plain": [
       "                    evento  usuarios_grupo1  usuarios_grupo2  \\\n",
       "0         MainScreenAppear             2482             2499   \n",
       "1       OffersScreenAppear             1529             1538   \n",
       "2         CartScreenAppear             1240             1238   \n",
       "3  PaymentScreenSuccessful             1160             1184   \n",
       "4                 Tutorial              285              282   \n",
       "\n",
       "   proporcion_grupo1  proporcion_grupo2  p_value  significativo  \n",
       "0              98.49              98.39  0.76053          False  \n",
       "1              60.67              60.55  0.92841          False  \n",
       "2              49.21              48.74  0.74013          False  \n",
       "3              46.03              46.61  0.67783          False  \n",
       "4              11.31              11.10  0.81531          False  "
      ]
     },
     "execution_count": 112,
     "metadata": {},
     "output_type": "execute_result"
    }
   ],
   "source": [
    "# Datos base para los experimentos 247 vs 248\n",
    "eventos = registro_filtrado['event_name'].unique()\n",
    "exp_1_total = registro_filtrado.query(\"experimento == 247\")['device_id'].nunique()\n",
    "exp_2_total = registro_filtrado.query(\"experimento == 248\")['device_id'].nunique()\n",
    "\n",
    "# Aplicar para todos los eventos\n",
    "resultados = []\n",
    "for evento in eventos:\n",
    "    Funnel_exp1 = registro_filtrado.query(\"experimento == 247 and event_name == @evento\")['device_id'].nunique()\n",
    "    Funnel_exp2 = registro_filtrado.query(\"experimento == 248 and event_name == @evento\")['device_id'].nunique()\n",
    "    resultados.append(z_test_proporciones(evento, Funnel_exp1, Funnel_exp2, exp_1_total, exp_2_total, alpha=0.05))\n",
    "\n",
    "tabla_resultados = pd.DataFrame(resultados)\n",
    "tabla_resultados"
   ]
  },
  {
   "cell_type": "markdown",
   "metadata": {},
   "source": [
    "#### Análisis de resultados:\n",
    "\n",
    "Se compararon los experimentos 246 y 247 contra el grupo 248, evaluando cinco eventos clave en el flujo de usuarios. Las proporciones de usuarios que completaron cada evento entre los grupos fueron muy similares, con diferencias inferiores a dos puntos porcentuales.\n",
    "\n",
    "Los valores de p-value obtenidos para cada evento fueron mayores a 0.05, lo que indica que no existen diferencias estadísticamente significativas entre los grupos. Por lo tanto, no hay evidencia suficiente para afirmar que las variantes 246 y 247 hayan generado un cambio relevante en el comportamiento del usuario respecto al grupo base 248.\n",
    "\n",
    "Dado el tamaño considerable de las muestras y la consistencia de los resultados, se concluye que, si existe algún efecto, este es muy pequeño o inexistente en las métricas analizadas. Se recomienda considerar otras métricas o analizar segmentos específicos de usuarios para detectar posibles impactos que no sean evidentes en este análisis general."
   ]
  },
  {
   "cell_type": "markdown",
   "metadata": {},
   "source": [
    "### 5.5 Calcula cuántas pruebas de hipótesis estadísticas has realizado. Con un nivel de significancia estadística de 0.1, uno de cada 10 resultados podría ser falso. ¿Cuál debería ser el nivel de significancia? Si deseas cambiarlo, vuelve a ejecutar los pasos anteriores y comprueba tus conclusiones."
   ]
  },
  {
   "cell_type": "code",
   "execution_count": 115,
   "metadata": {},
   "outputs": [
    {
     "data": {
      "text/html": [
       "<div>\n",
       "<style scoped>\n",
       "    .dataframe tbody tr th:only-of-type {\n",
       "        vertical-align: middle;\n",
       "    }\n",
       "\n",
       "    .dataframe tbody tr th {\n",
       "        vertical-align: top;\n",
       "    }\n",
       "\n",
       "    .dataframe thead th {\n",
       "        text-align: right;\n",
       "    }\n",
       "</style>\n",
       "<table border=\"1\" class=\"dataframe\">\n",
       "  <thead>\n",
       "    <tr style=\"text-align: right;\">\n",
       "      <th></th>\n",
       "      <th>evento</th>\n",
       "      <th>usuarios_grupo1</th>\n",
       "      <th>usuarios_grupo2</th>\n",
       "      <th>proporcion_grupo1</th>\n",
       "      <th>proporcion_grupo2</th>\n",
       "      <th>p_value</th>\n",
       "      <th>significativo</th>\n",
       "    </tr>\n",
       "  </thead>\n",
       "  <tbody>\n",
       "    <tr>\n",
       "      <th>0</th>\n",
       "      <td>MainScreenAppear</td>\n",
       "      <td>2454</td>\n",
       "      <td>2482</td>\n",
       "      <td>98.67</td>\n",
       "      <td>98.49</td>\n",
       "      <td>0.58801</td>\n",
       "      <td>False</td>\n",
       "    </tr>\n",
       "    <tr>\n",
       "      <th>1</th>\n",
       "      <td>OffersScreenAppear</td>\n",
       "      <td>1545</td>\n",
       "      <td>1529</td>\n",
       "      <td>62.12</td>\n",
       "      <td>60.67</td>\n",
       "      <td>0.29253</td>\n",
       "      <td>False</td>\n",
       "    </tr>\n",
       "    <tr>\n",
       "      <th>2</th>\n",
       "      <td>CartScreenAppear</td>\n",
       "      <td>1269</td>\n",
       "      <td>1240</td>\n",
       "      <td>51.03</td>\n",
       "      <td>49.21</td>\n",
       "      <td>0.19806</td>\n",
       "      <td>False</td>\n",
       "    </tr>\n",
       "    <tr>\n",
       "      <th>3</th>\n",
       "      <td>PaymentScreenSuccessful</td>\n",
       "      <td>1202</td>\n",
       "      <td>1160</td>\n",
       "      <td>48.33</td>\n",
       "      <td>46.03</td>\n",
       "      <td>0.10315</td>\n",
       "      <td>False</td>\n",
       "    </tr>\n",
       "    <tr>\n",
       "      <th>4</th>\n",
       "      <td>Tutorial</td>\n",
       "      <td>278</td>\n",
       "      <td>285</td>\n",
       "      <td>11.18</td>\n",
       "      <td>11.31</td>\n",
       "      <td>0.88301</td>\n",
       "      <td>False</td>\n",
       "    </tr>\n",
       "  </tbody>\n",
       "</table>\n",
       "</div>"
      ],
      "text/plain": [
       "                    evento  usuarios_grupo1  usuarios_grupo2  \\\n",
       "0         MainScreenAppear             2454             2482   \n",
       "1       OffersScreenAppear             1545             1529   \n",
       "2         CartScreenAppear             1269             1240   \n",
       "3  PaymentScreenSuccessful             1202             1160   \n",
       "4                 Tutorial              278              285   \n",
       "\n",
       "   proporcion_grupo1  proporcion_grupo2  p_value  significativo  \n",
       "0              98.67              98.49  0.58801          False  \n",
       "1              62.12              60.67  0.29253          False  \n",
       "2              51.03              49.21  0.19806          False  \n",
       "3              48.33              46.03  0.10315          False  \n",
       "4              11.18              11.31  0.88301          False  "
      ]
     },
     "execution_count": 115,
     "metadata": {},
     "output_type": "execute_result"
    }
   ],
   "source": [
    "# Datos base experimento 246 vs 247\n",
    "eventos = registro_filtrado['event_name'].unique()\n",
    "exp_1_total = registro_filtrado.query(\"experimento == 246\")['device_id'].nunique()\n",
    "exp_2_total = registro_filtrado.query(\"experimento == 247\")['device_id'].nunique()\n",
    "\n",
    "# Aplicar para todos los eventos\n",
    "resultados = []\n",
    "for evento in eventos:\n",
    "    Funnel_exp1 = registro_filtrado.query(\"experimento == 246 and event_name == @evento\")['device_id'].nunique()\n",
    "    Funnel_exp2 = registro_filtrado.query(\"experimento == 247 and event_name == @evento\")['device_id'].nunique()\n",
    "    resultados.append(z_test_proporciones(evento, Funnel_exp1, Funnel_exp2, exp_1_total, exp_2_total, alpha=0.1))\n",
    "\n",
    "tabla_resultados = pd.DataFrame(resultados)\n",
    "tabla_resultados"
   ]
  },
  {
   "cell_type": "code",
   "execution_count": 113,
   "metadata": {},
   "outputs": [
    {
     "data": {
      "text/html": [
       "<div>\n",
       "<style scoped>\n",
       "    .dataframe tbody tr th:only-of-type {\n",
       "        vertical-align: middle;\n",
       "    }\n",
       "\n",
       "    .dataframe tbody tr th {\n",
       "        vertical-align: top;\n",
       "    }\n",
       "\n",
       "    .dataframe thead th {\n",
       "        text-align: right;\n",
       "    }\n",
       "</style>\n",
       "<table border=\"1\" class=\"dataframe\">\n",
       "  <thead>\n",
       "    <tr style=\"text-align: right;\">\n",
       "      <th></th>\n",
       "      <th>evento</th>\n",
       "      <th>usuarios_grupo1</th>\n",
       "      <th>usuarios_grupo2</th>\n",
       "      <th>proporcion_grupo1</th>\n",
       "      <th>proporcion_grupo2</th>\n",
       "      <th>p_value</th>\n",
       "      <th>significativo</th>\n",
       "    </tr>\n",
       "  </thead>\n",
       "  <tbody>\n",
       "    <tr>\n",
       "      <th>0</th>\n",
       "      <td>MainScreenAppear</td>\n",
       "      <td>2454</td>\n",
       "      <td>2499</td>\n",
       "      <td>98.67</td>\n",
       "      <td>98.39</td>\n",
       "      <td>0.39779</td>\n",
       "      <td>False</td>\n",
       "    </tr>\n",
       "    <tr>\n",
       "      <th>1</th>\n",
       "      <td>OffersScreenAppear</td>\n",
       "      <td>1545</td>\n",
       "      <td>1538</td>\n",
       "      <td>62.12</td>\n",
       "      <td>60.55</td>\n",
       "      <td>0.25256</td>\n",
       "      <td>False</td>\n",
       "    </tr>\n",
       "    <tr>\n",
       "      <th>2</th>\n",
       "      <td>CartScreenAppear</td>\n",
       "      <td>1269</td>\n",
       "      <td>1238</td>\n",
       "      <td>51.03</td>\n",
       "      <td>48.74</td>\n",
       "      <td>0.10520</td>\n",
       "      <td>False</td>\n",
       "    </tr>\n",
       "    <tr>\n",
       "      <th>3</th>\n",
       "      <td>PaymentScreenSuccessful</td>\n",
       "      <td>1202</td>\n",
       "      <td>1184</td>\n",
       "      <td>48.33</td>\n",
       "      <td>46.61</td>\n",
       "      <td>0.22285</td>\n",
       "      <td>False</td>\n",
       "    </tr>\n",
       "    <tr>\n",
       "      <th>4</th>\n",
       "      <td>Tutorial</td>\n",
       "      <td>278</td>\n",
       "      <td>282</td>\n",
       "      <td>11.18</td>\n",
       "      <td>11.10</td>\n",
       "      <td>0.93197</td>\n",
       "      <td>False</td>\n",
       "    </tr>\n",
       "  </tbody>\n",
       "</table>\n",
       "</div>"
      ],
      "text/plain": [
       "                    evento  usuarios_grupo1  usuarios_grupo2  \\\n",
       "0         MainScreenAppear             2454             2499   \n",
       "1       OffersScreenAppear             1545             1538   \n",
       "2         CartScreenAppear             1269             1238   \n",
       "3  PaymentScreenSuccessful             1202             1184   \n",
       "4                 Tutorial              278              282   \n",
       "\n",
       "   proporcion_grupo1  proporcion_grupo2  p_value  significativo  \n",
       "0              98.67              98.39  0.39779          False  \n",
       "1              62.12              60.55  0.25256          False  \n",
       "2              51.03              48.74  0.10520          False  \n",
       "3              48.33              46.61  0.22285          False  \n",
       "4              11.18              11.10  0.93197          False  "
      ]
     },
     "execution_count": 113,
     "metadata": {},
     "output_type": "execute_result"
    }
   ],
   "source": [
    "# Datos base del experimento 246 vs 248\n",
    "eventos = registro_filtrado['event_name'].unique()\n",
    "exp_1_total = registro_filtrado.query(\"experimento == 246\")['device_id'].nunique()\n",
    "exp_2_total = registro_filtrado.query(\"experimento == 248\")['device_id'].nunique()\n",
    "\n",
    "# Aplicar para todos los eventos\n",
    "resultados = []\n",
    "for evento in eventos:\n",
    "    Funnel_exp1 = registro_filtrado.query(\"experimento == 246 and event_name == @evento\")['device_id'].nunique()\n",
    "    Funnel_exp2 = registro_filtrado.query(\"experimento == 248 and event_name == @evento\")['device_id'].nunique()\n",
    "    resultados.append(z_test_proporciones(evento, Funnel_exp1, Funnel_exp2, exp_1_total, exp_2_total, alpha=0.1))\n",
    "\n",
    "tabla_resultados = pd.DataFrame(resultados)\n",
    "tabla_resultados"
   ]
  },
  {
   "cell_type": "code",
   "execution_count": 114,
   "metadata": {},
   "outputs": [
    {
     "data": {
      "text/html": [
       "<div>\n",
       "<style scoped>\n",
       "    .dataframe tbody tr th:only-of-type {\n",
       "        vertical-align: middle;\n",
       "    }\n",
       "\n",
       "    .dataframe tbody tr th {\n",
       "        vertical-align: top;\n",
       "    }\n",
       "\n",
       "    .dataframe thead th {\n",
       "        text-align: right;\n",
       "    }\n",
       "</style>\n",
       "<table border=\"1\" class=\"dataframe\">\n",
       "  <thead>\n",
       "    <tr style=\"text-align: right;\">\n",
       "      <th></th>\n",
       "      <th>evento</th>\n",
       "      <th>usuarios_grupo1</th>\n",
       "      <th>usuarios_grupo2</th>\n",
       "      <th>proporcion_grupo1</th>\n",
       "      <th>proporcion_grupo2</th>\n",
       "      <th>p_value</th>\n",
       "      <th>significativo</th>\n",
       "    </tr>\n",
       "  </thead>\n",
       "  <tbody>\n",
       "    <tr>\n",
       "      <th>0</th>\n",
       "      <td>MainScreenAppear</td>\n",
       "      <td>2482</td>\n",
       "      <td>2499</td>\n",
       "      <td>98.49</td>\n",
       "      <td>98.39</td>\n",
       "      <td>0.76053</td>\n",
       "      <td>False</td>\n",
       "    </tr>\n",
       "    <tr>\n",
       "      <th>1</th>\n",
       "      <td>OffersScreenAppear</td>\n",
       "      <td>1529</td>\n",
       "      <td>1538</td>\n",
       "      <td>60.67</td>\n",
       "      <td>60.55</td>\n",
       "      <td>0.92841</td>\n",
       "      <td>False</td>\n",
       "    </tr>\n",
       "    <tr>\n",
       "      <th>2</th>\n",
       "      <td>CartScreenAppear</td>\n",
       "      <td>1240</td>\n",
       "      <td>1238</td>\n",
       "      <td>49.21</td>\n",
       "      <td>48.74</td>\n",
       "      <td>0.74013</td>\n",
       "      <td>False</td>\n",
       "    </tr>\n",
       "    <tr>\n",
       "      <th>3</th>\n",
       "      <td>PaymentScreenSuccessful</td>\n",
       "      <td>1160</td>\n",
       "      <td>1184</td>\n",
       "      <td>46.03</td>\n",
       "      <td>46.61</td>\n",
       "      <td>0.67783</td>\n",
       "      <td>False</td>\n",
       "    </tr>\n",
       "    <tr>\n",
       "      <th>4</th>\n",
       "      <td>Tutorial</td>\n",
       "      <td>285</td>\n",
       "      <td>282</td>\n",
       "      <td>11.31</td>\n",
       "      <td>11.10</td>\n",
       "      <td>0.81531</td>\n",
       "      <td>False</td>\n",
       "    </tr>\n",
       "  </tbody>\n",
       "</table>\n",
       "</div>"
      ],
      "text/plain": [
       "                    evento  usuarios_grupo1  usuarios_grupo2  \\\n",
       "0         MainScreenAppear             2482             2499   \n",
       "1       OffersScreenAppear             1529             1538   \n",
       "2         CartScreenAppear             1240             1238   \n",
       "3  PaymentScreenSuccessful             1160             1184   \n",
       "4                 Tutorial              285              282   \n",
       "\n",
       "   proporcion_grupo1  proporcion_grupo2  p_value  significativo  \n",
       "0              98.49              98.39  0.76053          False  \n",
       "1              60.67              60.55  0.92841          False  \n",
       "2              49.21              48.74  0.74013          False  \n",
       "3              46.03              46.61  0.67783          False  \n",
       "4              11.31              11.10  0.81531          False  "
      ]
     },
     "execution_count": 114,
     "metadata": {},
     "output_type": "execute_result"
    }
   ],
   "source": [
    "# Datos base para los experimentos 247 vs 248\n",
    "eventos = registro_filtrado['event_name'].unique()\n",
    "exp_1_total = registro_filtrado.query(\"experimento == 247\")['device_id'].nunique()\n",
    "exp_2_total = registro_filtrado.query(\"experimento == 248\")['device_id'].nunique()\n",
    "\n",
    "# Aplicar para todos los eventos\n",
    "resultados = []\n",
    "for evento in eventos:\n",
    "    Funnel_exp1 = registro_filtrado.query(\"experimento == 247 and event_name == @evento\")['device_id'].nunique()\n",
    "    Funnel_exp2 = registro_filtrado.query(\"experimento == 248 and event_name == @evento\")['device_id'].nunique()\n",
    "    resultados.append(z_test_proporciones(evento, Funnel_exp1, Funnel_exp2, exp_1_total, exp_2_total, alpha=0.1))\n",
    "\n",
    "tabla_resultados = pd.DataFrame(resultados)\n",
    "tabla_resultados"
   ]
  },
  {
   "cell_type": "markdown",
   "metadata": {},
   "source": [
    "#### Análisis de resultados:\n",
    "\n",
    "Al comparar los experimentos 246, 247 y 248 con un nivel de significancia de 0.1, los resultados muestran que no hay diferencias estadísticamente significativas en ninguno de los eventos evaluados. Esto confirma que cambiar el umbral de 0.05 a 0.1 no altera la conclusión: las variantes no impactan el comportamiento de usuario medido.\n",
    "\n",
    "Se recomienda explorar otras métricas o segmentaciones para identificar posibles efectos que no se reflejan en este análisis."
   ]
  },
  {
   "cell_type": "markdown",
   "metadata": {},
   "source": [
    "## Conclusión final\n",
    "\n",
    "Tras analizar los experimentos 246, 247 y 248 con un nivel de significancia estándar de 0.05, se concluye que no existen diferencias estadísticamente significativas en los eventos evaluados entre los grupos. Los p-values obtenidos en las comparaciones son superiores al umbral establecido, lo que indica que las variantes probadas no generan un impacto relevante en el comportamiento de los usuarios medido en estos eventos.\n",
    "\n",
    "Además, aumentar el nivel de significancia a 0.1 tampoco altera esta conclusión, por lo que se mantiene la recomendación de utilizar α = 0.05 para un balance adecuado entre falsos positivos y falsos negativos.\n",
    "\n",
    "Por lo tanto, se recomienda considerar nuevas variables de análisis, realizar estudios en subgrupos específicos o incrementar la cantidad de datos para poder detectar posibles impactos que no fueron evidentes en este estudio."
   ]
  },
  {
   "cell_type": "code",
   "execution_count": null,
   "metadata": {},
   "outputs": [],
   "source": []
  }
 ],
 "metadata": {
  "kernelspec": {
   "display_name": "Python 3 (ipykernel)",
   "language": "python",
   "name": "python3"
  },
  "language_info": {
   "codemirror_mode": {
    "name": "ipython",
    "version": 3
   },
   "file_extension": ".py",
   "mimetype": "text/x-python",
   "name": "python",
   "nbconvert_exporter": "python",
   "pygments_lexer": "ipython3",
   "version": "3.9.23"
  }
 },
 "nbformat": 4,
 "nbformat_minor": 4
}
